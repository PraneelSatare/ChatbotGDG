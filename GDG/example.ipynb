{
 "cells": [
  {
   "cell_type": "code",
   "execution_count": 36,
   "metadata": {},
   "outputs": [],
   "source": [
    "import sys\n",
    "import os\n",
    "sys.path.append(os.path.abspath(r\"C:\\Users\\palak\\GDG\\src\"))\n",
    "sys.path.append('./src')\n"
   ]
  },
  {
   "cell_type": "code",
   "execution_count": 69,
   "metadata": {},
   "outputs": [
    {
     "name": "stdout",
     "output_type": "stream",
     "text": [
      "3 documents added to the vector store.\n",
      "Retrieved documents:\n",
      "Solve the knapsack problem\n",
      "Implement a segment tree\n",
      "Find the maximum subarray sum\n",
      "Chatbot response:\n",
      "Here’s what I found:\n",
      "- Solve the knapsack problem\n",
      "- Implement a segment tree\n",
      "- Find the maximum subarray sum\n",
      "\n"
     ]
    }
   ],
   "source": [
    "from sentence_transformers import SentenceTransformer\n",
    "from langchain.embeddings import HuggingFaceEmbeddings\n",
    "from langchain.vectorstores import Chroma\n",
    "\n",
    "\n",
    "embedder = SentenceTransformer('all-MiniLM-L6-v2') \n",
    "\n",
    "embedding_function = HuggingFaceEmbeddings(model_name='all-MiniLM-L6-v2')\n",
    "\n",
    "vector_store = Chroma(embedding_function=embedding_function, persist_directory=\"chroma_db\")\n",
    "\n",
    "documents = [\n",
    "    {\"id\": \"doc1\", \"page_content\": \"Find the maximum subarray sum\", \"metadata\": {\"source\": \"problem1\"}},\n",
    "    {\"id\": \"doc2\", \"page_content\": \"Implement a segment tree\", \"metadata\": {\"source\": \"problem2\"}},\n",
    "    {\"id\": \"doc3\", \"page_content\": \"Solve the knapsack problem\", \"metadata\": {\"source\": \"problem3\"}}\n",
    "]\n",
    "\n",
    "texts = [doc['page_content'] for doc in documents]\n",
    "metadatas = [doc['metadata'] for doc in documents]\n",
    "ids = [doc['id'] for doc in documents]\n",
    "\n",
    "vector_store.add_texts(texts, metadatas=metadatas, ids=ids)\n",
    "vector_store.persist() \n",
    "print(f\"{len(documents)} documents added to the vector store.\")\n",
    "\n",
    "query = \"How do I solve problem C from Contest #792?\"\n",
    "query_embedding = embedding_function.embed_query(query)\n",
    "\n",
    "retrieved_docs = vector_store.similarity_search_by_vector(query_embedding, k=3)\n",
    "\n",
    "print(\"Retrieved documents:\")\n",
    "for doc in retrieved_docs:\n",
    "    print(doc.page_content)\n",
    "\n",
    "\n",
    "response = \"Here’s what I found:\\n\"\n",
    "for doc in retrieved_docs:\n",
    "    response += f\"- {doc.page_content}\\n\"\n",
    "\n",
    "print(\"Chatbot response:\")\n",
    "print(response)\n",
    "\n",
    "\n",
    "\n"
   ]
  }
 ],
 "metadata": {
  "kernelspec": {
   "display_name": "Python 3",
   "language": "python",
   "name": "python3"
  },
  "language_info": {
   "codemirror_mode": {
    "name": "ipython",
    "version": 3
   },
   "file_extension": ".py",
   "mimetype": "text/x-python",
   "name": "python",
   "nbconvert_exporter": "python",
   "pygments_lexer": "ipython3",
   "version": "3.12.6"
  }
 },
 "nbformat": 4,
 "nbformat_minor": 2
}
