{
  "nbformat": 4,
  "nbformat_minor": 0,
  "metadata": {
    "colab": {
      "provenance": [],
      "gpuType": "T4"
    },
    "kernelspec": {
      "name": "python3",
      "display_name": "Python 3"
    },
    "language_info": {
      "name": "python"
    },
    "accelerator": "GPU"
  },
  "cells": [
    {
      "cell_type": "markdown",
      "source": [
        "# Install required packages"
      ],
      "metadata": {
        "id": "9NYma8w3y-M-"
      }
    },
    {
      "cell_type": "code",
      "source": [
        "!pip install langchain langchain-community faiss-cpu sentence-transformers pypdf transformers torch"
      ],
      "metadata": {
        "colab": {
          "base_uri": "https://localhost:8080/"
        },
        "id": "M5gYtUd6u0mu",
        "outputId": "d8ac3901-68ab-4dba-acb1-cbae335b2b56"
      },
      "execution_count": 33,
      "outputs": [
        {
          "output_type": "stream",
          "name": "stdout",
          "text": [
            "Requirement already satisfied: langchain in /usr/local/lib/python3.10/dist-packages (0.3.13)\n",
            "Requirement already satisfied: langchain-community in /usr/local/lib/python3.10/dist-packages (0.3.13)\n",
            "Requirement already satisfied: faiss-cpu in /usr/local/lib/python3.10/dist-packages (1.9.0.post1)\n",
            "Requirement already satisfied: sentence-transformers in /usr/local/lib/python3.10/dist-packages (3.3.1)\n",
            "Requirement already satisfied: pypdf in /usr/local/lib/python3.10/dist-packages (5.1.0)\n",
            "Requirement already satisfied: transformers in /usr/local/lib/python3.10/dist-packages (4.47.1)\n",
            "Requirement already satisfied: torch in /usr/local/lib/python3.10/dist-packages (2.5.1+cu121)\n",
            "Requirement already satisfied: PyYAML>=5.3 in /usr/local/lib/python3.10/dist-packages (from langchain) (6.0.2)\n",
            "Requirement already satisfied: SQLAlchemy<3,>=1.4 in /usr/local/lib/python3.10/dist-packages (from langchain) (2.0.36)\n",
            "Requirement already satisfied: aiohttp<4.0.0,>=3.8.3 in /usr/local/lib/python3.10/dist-packages (from langchain) (3.11.10)\n",
            "Requirement already satisfied: async-timeout<5.0.0,>=4.0.0 in /usr/local/lib/python3.10/dist-packages (from langchain) (4.0.3)\n",
            "Requirement already satisfied: langchain-core<0.4.0,>=0.3.26 in /usr/local/lib/python3.10/dist-packages (from langchain) (0.3.28)\n",
            "Requirement already satisfied: langchain-text-splitters<0.4.0,>=0.3.3 in /usr/local/lib/python3.10/dist-packages (from langchain) (0.3.3)\n",
            "Requirement already satisfied: langsmith<0.3,>=0.1.17 in /usr/local/lib/python3.10/dist-packages (from langchain) (0.2.3)\n",
            "Requirement already satisfied: numpy<2,>=1.22.4 in /usr/local/lib/python3.10/dist-packages (from langchain) (1.26.4)\n",
            "Requirement already satisfied: pydantic<3.0.0,>=2.7.4 in /usr/local/lib/python3.10/dist-packages (from langchain) (2.10.3)\n",
            "Requirement already satisfied: requests<3,>=2 in /usr/local/lib/python3.10/dist-packages (from langchain) (2.32.3)\n",
            "Requirement already satisfied: tenacity!=8.4.0,<10,>=8.1.0 in /usr/local/lib/python3.10/dist-packages (from langchain) (9.0.0)\n",
            "Requirement already satisfied: dataclasses-json<0.7,>=0.5.7 in /usr/local/lib/python3.10/dist-packages (from langchain-community) (0.6.7)\n",
            "Requirement already satisfied: httpx-sse<0.5.0,>=0.4.0 in /usr/local/lib/python3.10/dist-packages (from langchain-community) (0.4.0)\n",
            "Requirement already satisfied: pydantic-settings<3.0.0,>=2.4.0 in /usr/local/lib/python3.10/dist-packages (from langchain-community) (2.7.0)\n",
            "Requirement already satisfied: packaging in /usr/local/lib/python3.10/dist-packages (from faiss-cpu) (24.2)\n",
            "Requirement already satisfied: tqdm in /usr/local/lib/python3.10/dist-packages (from sentence-transformers) (4.67.1)\n",
            "Requirement already satisfied: scikit-learn in /usr/local/lib/python3.10/dist-packages (from sentence-transformers) (1.6.0)\n",
            "Requirement already satisfied: scipy in /usr/local/lib/python3.10/dist-packages (from sentence-transformers) (1.13.1)\n",
            "Requirement already satisfied: huggingface-hub>=0.20.0 in /usr/local/lib/python3.10/dist-packages (from sentence-transformers) (0.27.0)\n",
            "Requirement already satisfied: Pillow in /usr/local/lib/python3.10/dist-packages (from sentence-transformers) (11.0.0)\n",
            "Requirement already satisfied: typing_extensions>=4.0 in /usr/local/lib/python3.10/dist-packages (from pypdf) (4.12.2)\n",
            "Requirement already satisfied: filelock in /usr/local/lib/python3.10/dist-packages (from transformers) (3.16.1)\n",
            "Requirement already satisfied: regex!=2019.12.17 in /usr/local/lib/python3.10/dist-packages (from transformers) (2024.11.6)\n",
            "Requirement already satisfied: tokenizers<0.22,>=0.21 in /usr/local/lib/python3.10/dist-packages (from transformers) (0.21.0)\n",
            "Requirement already satisfied: safetensors>=0.4.1 in /usr/local/lib/python3.10/dist-packages (from transformers) (0.4.5)\n",
            "Requirement already satisfied: networkx in /usr/local/lib/python3.10/dist-packages (from torch) (3.4.2)\n",
            "Requirement already satisfied: jinja2 in /usr/local/lib/python3.10/dist-packages (from torch) (3.1.4)\n",
            "Requirement already satisfied: fsspec in /usr/local/lib/python3.10/dist-packages (from torch) (2024.10.0)\n",
            "Requirement already satisfied: sympy==1.13.1 in /usr/local/lib/python3.10/dist-packages (from torch) (1.13.1)\n",
            "Requirement already satisfied: mpmath<1.4,>=1.1.0 in /usr/local/lib/python3.10/dist-packages (from sympy==1.13.1->torch) (1.3.0)\n",
            "Requirement already satisfied: aiohappyeyeballs>=2.3.0 in /usr/local/lib/python3.10/dist-packages (from aiohttp<4.0.0,>=3.8.3->langchain) (2.4.4)\n",
            "Requirement already satisfied: aiosignal>=1.1.2 in /usr/local/lib/python3.10/dist-packages (from aiohttp<4.0.0,>=3.8.3->langchain) (1.3.2)\n",
            "Requirement already satisfied: attrs>=17.3.0 in /usr/local/lib/python3.10/dist-packages (from aiohttp<4.0.0,>=3.8.3->langchain) (24.3.0)\n",
            "Requirement already satisfied: frozenlist>=1.1.1 in /usr/local/lib/python3.10/dist-packages (from aiohttp<4.0.0,>=3.8.3->langchain) (1.5.0)\n",
            "Requirement already satisfied: multidict<7.0,>=4.5 in /usr/local/lib/python3.10/dist-packages (from aiohttp<4.0.0,>=3.8.3->langchain) (6.1.0)\n",
            "Requirement already satisfied: propcache>=0.2.0 in /usr/local/lib/python3.10/dist-packages (from aiohttp<4.0.0,>=3.8.3->langchain) (0.2.1)\n",
            "Requirement already satisfied: yarl<2.0,>=1.17.0 in /usr/local/lib/python3.10/dist-packages (from aiohttp<4.0.0,>=3.8.3->langchain) (1.18.3)\n",
            "Requirement already satisfied: marshmallow<4.0.0,>=3.18.0 in /usr/local/lib/python3.10/dist-packages (from dataclasses-json<0.7,>=0.5.7->langchain-community) (3.23.2)\n",
            "Requirement already satisfied: typing-inspect<1,>=0.4.0 in /usr/local/lib/python3.10/dist-packages (from dataclasses-json<0.7,>=0.5.7->langchain-community) (0.9.0)\n",
            "Requirement already satisfied: jsonpatch<2.0,>=1.33 in /usr/local/lib/python3.10/dist-packages (from langchain-core<0.4.0,>=0.3.26->langchain) (1.33)\n",
            "Requirement already satisfied: httpx<1,>=0.23.0 in /usr/local/lib/python3.10/dist-packages (from langsmith<0.3,>=0.1.17->langchain) (0.28.1)\n",
            "Requirement already satisfied: orjson<4.0.0,>=3.9.14 in /usr/local/lib/python3.10/dist-packages (from langsmith<0.3,>=0.1.17->langchain) (3.10.12)\n",
            "Requirement already satisfied: requests-toolbelt<2.0.0,>=1.0.0 in /usr/local/lib/python3.10/dist-packages (from langsmith<0.3,>=0.1.17->langchain) (1.0.0)\n",
            "Requirement already satisfied: annotated-types>=0.6.0 in /usr/local/lib/python3.10/dist-packages (from pydantic<3.0.0,>=2.7.4->langchain) (0.7.0)\n",
            "Requirement already satisfied: pydantic-core==2.27.1 in /usr/local/lib/python3.10/dist-packages (from pydantic<3.0.0,>=2.7.4->langchain) (2.27.1)\n",
            "Requirement already satisfied: python-dotenv>=0.21.0 in /usr/local/lib/python3.10/dist-packages (from pydantic-settings<3.0.0,>=2.4.0->langchain-community) (1.0.1)\n",
            "Requirement already satisfied: charset-normalizer<4,>=2 in /usr/local/lib/python3.10/dist-packages (from requests<3,>=2->langchain) (3.4.0)\n",
            "Requirement already satisfied: idna<4,>=2.5 in /usr/local/lib/python3.10/dist-packages (from requests<3,>=2->langchain) (3.10)\n",
            "Requirement already satisfied: urllib3<3,>=1.21.1 in /usr/local/lib/python3.10/dist-packages (from requests<3,>=2->langchain) (2.2.3)\n",
            "Requirement already satisfied: certifi>=2017.4.17 in /usr/local/lib/python3.10/dist-packages (from requests<3,>=2->langchain) (2024.12.14)\n",
            "Requirement already satisfied: greenlet!=0.4.17 in /usr/local/lib/python3.10/dist-packages (from SQLAlchemy<3,>=1.4->langchain) (3.1.1)\n",
            "Requirement already satisfied: MarkupSafe>=2.0 in /usr/local/lib/python3.10/dist-packages (from jinja2->torch) (3.0.2)\n",
            "Requirement already satisfied: joblib>=1.2.0 in /usr/local/lib/python3.10/dist-packages (from scikit-learn->sentence-transformers) (1.4.2)\n",
            "Requirement already satisfied: threadpoolctl>=3.1.0 in /usr/local/lib/python3.10/dist-packages (from scikit-learn->sentence-transformers) (3.5.0)\n",
            "Requirement already satisfied: anyio in /usr/local/lib/python3.10/dist-packages (from httpx<1,>=0.23.0->langsmith<0.3,>=0.1.17->langchain) (3.7.1)\n",
            "Requirement already satisfied: httpcore==1.* in /usr/local/lib/python3.10/dist-packages (from httpx<1,>=0.23.0->langsmith<0.3,>=0.1.17->langchain) (1.0.7)\n",
            "Requirement already satisfied: h11<0.15,>=0.13 in /usr/local/lib/python3.10/dist-packages (from httpcore==1.*->httpx<1,>=0.23.0->langsmith<0.3,>=0.1.17->langchain) (0.14.0)\n",
            "Requirement already satisfied: jsonpointer>=1.9 in /usr/local/lib/python3.10/dist-packages (from jsonpatch<2.0,>=1.33->langchain-core<0.4.0,>=0.3.26->langchain) (3.0.0)\n",
            "Requirement already satisfied: mypy-extensions>=0.3.0 in /usr/local/lib/python3.10/dist-packages (from typing-inspect<1,>=0.4.0->dataclasses-json<0.7,>=0.5.7->langchain-community) (1.0.0)\n",
            "Requirement already satisfied: sniffio>=1.1 in /usr/local/lib/python3.10/dist-packages (from anyio->httpx<1,>=0.23.0->langsmith<0.3,>=0.1.17->langchain) (1.3.1)\n",
            "Requirement already satisfied: exceptiongroup in /usr/local/lib/python3.10/dist-packages (from anyio->httpx<1,>=0.23.0->langsmith<0.3,>=0.1.17->langchain) (1.2.2)\n"
          ]
        }
      ]
    },
    {
      "cell_type": "markdown",
      "source": [
        "#Import necessary libraries\n",
        "\n",
        "\n"
      ],
      "metadata": {
        "id": "fmwaJbJ1zJb3"
      }
    },
    {
      "cell_type": "code",
      "source": [
        "from langchain_community.embeddings import HuggingFaceEmbeddings\n",
        "from langchain_community.vectorstores import FAISS\n",
        "from langchain.text_splitter import RecursiveCharacterTextSplitter\n",
        "from langchain_community.document_loaders import PyPDFLoader\n",
        "from langchain_community.llms import HuggingFacePipeline\n",
        "from langchain.chains import RetrievalQA\n",
        "from transformers import AutoTokenizer, AutoModelForCausalLM, pipeline\n",
        "import textwrap\n",
        "import torch"
      ],
      "metadata": {
        "id": "rr8GPtJVzG-g"
      },
      "execution_count": 34,
      "outputs": []
    },
    {
      "cell_type": "markdown",
      "source": [
        "# Initialize the embedding model"
      ],
      "metadata": {
        "id": "BJz0FjcbzOhp"
      }
    },
    {
      "cell_type": "code",
      "source": [
        "embeddings = HuggingFaceEmbeddings(\n",
        "    model_name=\"sentence-transformers/all-MiniLM-L6-v2\",\n",
        "    model_kwargs={'device': 'cpu'}\n",
        ")\n",
        "print(\"Embeddings model initialized\")"
      ],
      "metadata": {
        "colab": {
          "base_uri": "https://localhost:8080/"
        },
        "id": "4J2XMyfgu7Jb",
        "outputId": "c2dfae01-86d1-4f7d-cf3e-4eb038993328"
      },
      "execution_count": 35,
      "outputs": [
        {
          "output_type": "stream",
          "name": "stdout",
          "text": [
            "Embeddings model initialized\n"
          ]
        }
      ]
    },
    {
      "cell_type": "markdown",
      "source": [
        "# Load the PDF document"
      ],
      "metadata": {
        "id": "4QTU3KyjzgrT"
      }
    },
    {
      "cell_type": "code",
      "source": [
        "pdf_path = \"/content/Human-Nutrition-2020-Edition-1598491699.pdf\"\n",
        "loader = PyPDFLoader(pdf_path)\n",
        "documents = loader.load()\n",
        "print(f\"Loaded PDF with {len(documents)} pages\")"
      ],
      "metadata": {
        "colab": {
          "base_uri": "https://localhost:8080/"
        },
        "id": "NP-DtzStzeYv",
        "outputId": "f8d686b4-146a-4afe-db6e-00c42f9097d9"
      },
      "execution_count": 36,
      "outputs": [
        {
          "output_type": "stream",
          "name": "stdout",
          "text": [
            "Loaded PDF with 1208 pages\n"
          ]
        }
      ]
    },
    {
      "cell_type": "markdown",
      "source": [
        "# Split text into chunks"
      ],
      "metadata": {
        "id": "K4hiS21xzljx"
      }
    },
    {
      "cell_type": "code",
      "source": [
        "text_splitter = RecursiveCharacterTextSplitter(\n",
        "    chunk_size=1000,\n",
        "    chunk_overlap=200,\n",
        "    length_function=len,\n",
        ")\n",
        "texts = text_splitter.split_documents(documents)\n",
        "print(f\"Split into {len(texts)} chunks\")"
      ],
      "metadata": {
        "colab": {
          "base_uri": "https://localhost:8080/"
        },
        "id": "-kGbiMkWvFoC",
        "outputId": "74a7638d-c25b-4dbf-99dc-262b643e425c"
      },
      "execution_count": 37,
      "outputs": [
        {
          "output_type": "stream",
          "name": "stdout",
          "text": [
            "Split into 2101 chunks\n"
          ]
        }
      ]
    },
    {
      "cell_type": "markdown",
      "source": [
        "# Create a vector store"
      ],
      "metadata": {
        "id": "oKJEBf6Xzr6w"
      }
    },
    {
      "cell_type": "code",
      "source": [
        "vector_store = FAISS.from_documents(texts, embeddings)\n",
        "print(\"Vector store created\")"
      ],
      "metadata": {
        "colab": {
          "base_uri": "https://localhost:8080/"
        },
        "id": "PLeEO3oovJfY",
        "outputId": "ebc93ee2-4e98-4576-b4b7-b4d446caecda"
      },
      "execution_count": 38,
      "outputs": [
        {
          "output_type": "stream",
          "name": "stdout",
          "text": [
            "Vector store created\n"
          ]
        }
      ]
    },
    {
      "cell_type": "code",
      "source": [
        "print(\"\\nExample chunks:\")\n",
        "for i, chunk in enumerate(texts[75:77]):\n",
        "    print(f\"\\nChunk {i+1} (Page {chunk.metadata['page']}):\")\n",
        "    print(textwrap.fill(chunk.page_content[:200] + \"...\", width=80))"
      ],
      "metadata": {
        "colab": {
          "base_uri": "https://localhost:8080/"
        },
        "id": "PgSxHB0Iz4Q8",
        "outputId": "d1271bdd-c7a8-4145-cbc9-1e8db3cee8fb"
      },
      "execution_count": 39,
      "outputs": [
        {
          "output_type": "stream",
          "name": "stdout",
          "text": [
            "\n",
            "Example chunks:\n",
            "\n",
            "Chunk 1 (Page 60):\n",
            "Volume  Metric System US Customary System Conversions  Milliliter (mL) Teaspoon\n",
            "(tsp) 1 tsp = 5 mL  Deciliter (dL) Tablespoon (tbsp) 1 tbsp = 3 tsp = 15 mL\n",
            "Liter (L) Fluid ounce (fl oz) 1 fl oz = 2 t...\n",
            "\n",
            "Chunk 2 (Page 61):\n",
            "available in the web-based textbook and not available in the  downloadable\n",
            "versions (EPUB, Digital PDF, Print_PDF, or  Open Document).  Learning activities\n",
            "may be used across various mobile  devices, ...\n"
          ]
        }
      ]
    },
    {
      "cell_type": "markdown",
      "source": [
        "# Initialize the LLM"
      ],
      "metadata": {
        "id": "zCGsyYPoz6_w"
      }
    },
    {
      "cell_type": "code",
      "source": [
        "from transformers import AutoTokenizer, AutoModelForSeq2SeqLM, pipeline\n",
        "model_id = \"google/flan-t5-base\"\n",
        "tokenizer = AutoTokenizer.from_pretrained(model_id)\n",
        "model = AutoModelForSeq2SeqLM.from_pretrained(\n",
        "    model_id,\n",
        "    torch_dtype=torch.float32,\n",
        "    device_map='auto'\n",
        ")\n",
        "\n",
        "pipe = pipeline(\n",
        "    \"text2text-generation\",\n",
        "    model=model,\n",
        "    tokenizer=tokenizer,\n",
        "    max_length=512,\n",
        "    temperature=0.3,\n",
        "    top_p=0.95,\n",
        ")\n",
        "\n",
        "llm = HuggingFacePipeline(pipeline=pipe)\n",
        "print(\"LLM initialized\")"
      ],
      "metadata": {
        "colab": {
          "base_uri": "https://localhost:8080/"
        },
        "id": "Ht-_ENvhvOZM",
        "outputId": "0afeb9db-ace7-4dd9-ebb4-ed7bd705402b"
      },
      "execution_count": 40,
      "outputs": [
        {
          "output_type": "stream",
          "name": "stderr",
          "text": [
            "Device set to use cuda:0\n"
          ]
        },
        {
          "output_type": "stream",
          "name": "stdout",
          "text": [
            "LLM initialized\n"
          ]
        }
      ]
    },
    {
      "cell_type": "markdown",
      "source": [
        "# Set up retriever"
      ],
      "metadata": {
        "id": "Yyy0a16C0Ez9"
      }
    },
    {
      "cell_type": "code",
      "source": [
        "retriever = vector_store.as_retriever(\n",
        "    search_type=\"similarity\",\n",
        "    search_kwargs={\"k\": 5}\n",
        ")"
      ],
      "metadata": {
        "id": "K7mVOBiCvSiF"
      },
      "execution_count": 41,
      "outputs": []
    },
    {
      "cell_type": "code",
      "source": [
        "test_query = \"What is protein, and what role does it play in the human body?\"\n",
        "retrieved_docs = retriever.get_relevant_documents(test_query)\n",
        "print(\"\\nTest retrieval results:\")\n",
        "for i, doc in enumerate(retrieved_docs):\n",
        "    print(f\"\\nRetrieved Document {i+1} (Page {doc.metadata['page']}):\")\n",
        "    print(textwrap.fill(doc.page_content[:200] + \"...\", width=80))"
      ],
      "metadata": {
        "colab": {
          "base_uri": "https://localhost:8080/"
        },
        "id": "eJzDxHdLvV-4",
        "outputId": "3c064e87-d78c-4ce4-df6d-794c7379e241"
      },
      "execution_count": 42,
      "outputs": [
        {
          "output_type": "stream",
          "name": "stdout",
          "text": [
            "\n",
            "Test retrieval results:\n",
            "\n",
            "Retrieved Document 1 (Page 424):\n",
            "Proteins are  the  “workhorses”  of the body  and  participate  in many  bodily\n",
            "functions.  Proteins  come in all  sizes and  shapes and  each is  specifically\n",
            "structured  for its  particular  funct...\n",
            "\n",
            "Retrieved Document 2 (Page 404):\n",
            "Defining Protein  UNIVERSITY OF HAWAI‘I AT MĀNOA FOOD SCIENCE AND HUMAN\n",
            "NUTRITION PROGRAM AND HUMAN NUTRITION PROGRAM  Protein makes up approximately 20\n",
            "percent of the human body and  is present in e...\n",
            "\n",
            "Retrieved Document 3 (Page 404):\n",
            "about the c omponents of protein, the impor tant roles that protein  serves wi\n",
            "thin the bod y, ho w the bod y uses pr otein, the risks and  consequences\n",
            "associa ted wi th too much or too li ttle prote...\n",
            "\n",
            "Retrieved Document 4 (Page 53):\n",
            "Protein  Necessary for tissue formation, cell reparation, and  hormone and\n",
            "enzyme production. It is essential for  building strong muscles and a healthy\n",
            "immune system.  Carbohydrates  Provide a ready ...\n",
            "\n",
            "Retrieved Document 5 (Page 398):\n",
            "PART VI  CHAPTER 6. PROTEIN  Chapter 6. Protein  |  357...\n"
          ]
        }
      ]
    },
    {
      "cell_type": "markdown",
      "source": [
        "# Create the QA chain"
      ],
      "metadata": {
        "id": "9yg26Kjn0Phx"
      }
    },
    {
      "cell_type": "code",
      "source": [
        "qa_chain = RetrievalQA.from_chain_type(\n",
        "    llm=llm,\n",
        "    chain_type=\"stuff\",\n",
        "    retriever=retriever,\n",
        "    return_source_documents=True\n",
        ")\n",
        "print(\"\\nQA chain created\")"
      ],
      "metadata": {
        "colab": {
          "base_uri": "https://localhost:8080/"
        },
        "id": "E54C-nCFvZCO",
        "outputId": "debe2b6e-c1fc-42af-f7d8-4356b72be7c8"
      },
      "execution_count": 43,
      "outputs": [
        {
          "output_type": "stream",
          "name": "stdout",
          "text": [
            "\n",
            "QA chain created\n"
          ]
        }
      ]
    },
    {
      "cell_type": "markdown",
      "source": [
        "# Make queries"
      ],
      "metadata": {
        "id": "rsE_qPKx0U34"
      }
    },
    {
      "cell_type": "code",
      "source": [
        "question = \"Give information on vitamin K\"\n",
        "result = qa_chain({\"query\": question})\n",
        "\n",
        "print(\"\\nFinal QA Result:\")\n",
        "print(\"\\nQuestion:\", question)\n",
        "print(\"\\nAnswer:\", result[\"result\"])\n",
        "print(\"\\nSource Documents:\")\n",
        "for i, doc in enumerate(result[\"source_documents\"], 1):\n",
        "    print(f\"\\nDocument {i} (Page {doc.metadata['page']}):\")\n",
        "    print(textwrap.fill(doc.page_content, width=80))"
      ],
      "metadata": {
        "colab": {
          "base_uri": "https://localhost:8080/"
        },
        "id": "mOa8JB_4vci7",
        "outputId": "2775e78b-56e1-460f-dba6-58b319f9a2ae"
      },
      "execution_count": 44,
      "outputs": [
        {
          "output_type": "stream",
          "name": "stderr",
          "text": [
            "Token indices sequence length is longer than the specified maximum sequence length for this model (1316 > 512). Running this sequence through the model will result in indexing errors\n",
            "/usr/local/lib/python3.10/dist-packages/transformers/generation/configuration_utils.py:628: UserWarning: `do_sample` is set to `False`. However, `temperature` is set to `0.3` -- this flag is only used in sample-based generation modes. You should set `do_sample=True` or unset `temperature`.\n",
            "  warnings.warn(\n",
            "/usr/local/lib/python3.10/dist-packages/transformers/generation/configuration_utils.py:633: UserWarning: `do_sample` is set to `False`. However, `top_p` is set to `0.95` -- this flag is only used in sample-based generation modes. You should set `do_sample=True` or unset `top_p`.\n",
            "  warnings.warn(\n"
          ]
        },
        {
          "output_type": "stream",
          "name": "stdout",
          "text": [
            "\n",
            "Final QA Result:\n",
            "\n",
            "Question: Give information on vitamin K\n",
            "\n",
            "Answer: Vitamin K r efers to a gr oup of fat-soluble vitamins that are similar in chemical structure. Vitamin K is critical for blood function acting as coenzymes which play an essential role in blood coagulation (aka blood clotting). Blood-clotting proteins are continuously circulating in the blood. Upon in jury to a blood v essel, pla telets stick to the dose of vitamin K. This pr actice has basically eliminated vitamin K- dependent bleeding disorders in babies.\n",
            "\n",
            "Source Documents:\n",
            "\n",
            "Document 1 (Page 585):\n",
            "Food Serving Size Vitamin E (mg) Percent Daily Value  Sunflower seeds 1 oz. 7.4\n",
            "37  Almonds 1 oz. 6.8 34  Sunflower oil 1 Tbsp 5.6 28  Hazelnuts 1 oz. 1 oz. 4.3\n",
            "22  Peanut butter 2 Tbsp. 2.9 15  Peanuts 1 oz. 1 oz. 2.2 11  Corn oil 1 Tbsp. 1\n",
            "Tbsp. 1.9 10  Kiwi 1 medium 1.1 6  Tomato 1 medium 0.7 4  Spinach 1 c. raw 0.6 3\n",
            "Source: Die tary S upplement Fac t She et: Vi tamin E.N ational  Institutes o f\n",
            "H ealth, Of fice o f Die tary S upplements.\n",
            "http://ods.od.nih.gov/factsheets/VitaminE-QuickFacts/. Upda ted  October 11,\n",
            "2011. Accessed October 5, 2017.  Vitamin K Functions and Health Benefits\n",
            "Vitamin K r efers to a gr oup of fat-soluble vitamins that are similar  in\n",
            "chemical structure. Vitamin K is critical for blood function acting  as\n",
            "coenzymes which play an essential role in blood coagulation (aka  blood\n",
            "clotting). Blood-clotting proteins are continuously circulating  in the blood.\n",
            "Upon in jury to a blood v essel, pla telets stick to the\n",
            "\n",
            "Document 2 (Page 588):\n",
            "dose of vitamin K. This pr actice has basically eliminated vitamin K- dependent\n",
            "bleeding disorders in babies.  Table 9.9 Dietary Sources of Vitamin K  Food\n",
            "Serving Vitamin K (mcg) Percent Daily Value  Broccoli ½ c. 160 133  Asparagus 4\n",
            "spears 34 28  Cabbage ½ c. 56 47  Spinach ½ c. 27 23  Green peas ½ c. 16 13\n",
            "Cheese 1 oz. 10 8  Ham 3 oz. 13 11  Ground beef 3 oz. 6 5  Bread 1 slice 1.1 <1\n",
            "Orange 1 e. 1.3 1  Summary of Fat-soluble Vitamins  Table 9.10 Fat-Soluble\n",
            "Vitamins  Fat-Soluble Vitamins  |  547\n",
            "\n",
            "Document 3 (Page 586):\n",
            "an UL f or vi tamin K be cause i t has a lo w poten tial f or to xicity.\n",
            "According to the FNB, “ no adverse effects associated with vitamin  K c\n",
            "onsumption fr om f ood or supplemen ts ha ve be en r eported in  humans or\n",
            "animals.”  Institute o f M edicine. Die tary r eference in takes f or vi tamin\n",
            "A,  vitamin K, arsenic, bor on, chr omium, c opper, iodine, ir on,  manganese,\n",
            "mol ybdenum, nick el, silic on, v anadium, and zinc.  Washington, DC: National\n",
            "Academy Press; 2001.  Table 9.8 Dietary Reference Intakes for Vitamin K  Fat-\n",
            "Soluble Vitamins  |  545\n",
            "\n",
            "Document 4 (Page 586):\n",
            "impaired b y e xcess vi tamin K in take fr om supplemen ts. Calcium\n",
            "additionally plays a role in activation of blood-clotting proteins.  Bone Health\n",
            "Vitamin K is also r equired for maintaining bone he alth. It modifies  the\n",
            "protein osteocalcin, which is in volved in the bone r emodeling  process. All\n",
            "the func tions of osteocalcin and the other vi tamin K- dependent proteins in\n",
            "bone tissue ar e not well understood and are  under intense study. Some studies\n",
            "do sho w that people who ha ve  diets low in vitamin K also have an increased\n",
            "risk for bone fractures.  Dietary Reference Intake and Food Sources for  Vitamin\n",
            "K  The AI of vitamin K for adult females is 90 micrograms per day, and  for\n",
            "males i t is 120 micr ograms per da y. A UL f or vitamin K has not  been set.\n",
            "The Food and Nutri tion Board (FNB) has not establishe d  an UL f or vi tamin K\n",
            "be cause i t has a lo w poten tial f or to xicity.  According to the FNB, “ no\n",
            "adverse effects associated with vitamin\n",
            "\n",
            "Document 5 (Page 587):\n",
            "concentrations in green vegetables such as br occoli, cabbage, kale,  parsley,\n",
            "spinach, and le ttuce. Addi tionally, vi tamin K c an be  synthesized via bac\n",
            "teria in the lar ge in testine. The e xact amoun t  of vi tamin K syn thesized b\n",
            "y bac teria tha t is ac tually absorbe d in  the lo wer in testine is not kno\n",
            "wn, but lik ely c ontributes less than  10 percent of the recommended intake.\n",
            "Newborns have low vitamin  K stor es and i t tak es time f or the sterile ne\n",
            "wborn gut to ac quire  the good bacteria it needs to produce vitamin K. So, i t\n",
            "has become  a r outine pr actice to in ject ne wborns wi th a sing le in\n",
            "tramuscular  546  |  Fat-Soluble Vitamins\n"
          ]
        }
      ]
    },
    {
      "cell_type": "code",
      "source": [
        "question = \"What is protein, and what role does it play in the human body?\"\n",
        "result = qa_chain({\"query\": question})\n",
        "\n",
        "print(\"\\nFinal QA Result:\")\n",
        "print(\"\\nQuestion:\", question)\n",
        "print(\"\\nAnswer:\", result[\"result\"])\n",
        "print(\"\\nSource Documents:\")\n",
        "for i, doc in enumerate(result[\"source_documents\"], 1):\n",
        "    print(f\"\\nDocument {i} (Page {doc.metadata['page']}):\")\n",
        "    print(textwrap.fill(doc.page_content, width=80))"
      ],
      "metadata": {
        "colab": {
          "base_uri": "https://localhost:8080/"
        },
        "id": "42m8oSdIxuvw",
        "outputId": "eb09b0e5-3738-4cf5-f552-721f2bf13f52"
      },
      "execution_count": 45,
      "outputs": [
        {
          "output_type": "stream",
          "name": "stderr",
          "text": [
            "/usr/local/lib/python3.10/dist-packages/transformers/generation/configuration_utils.py:628: UserWarning: `do_sample` is set to `False`. However, `temperature` is set to `0.3` -- this flag is only used in sample-based generation modes. You should set `do_sample=True` or unset `temperature`.\n",
            "  warnings.warn(\n",
            "/usr/local/lib/python3.10/dist-packages/transformers/generation/configuration_utils.py:633: UserWarning: `do_sample` is set to `False`. However, `top_p` is set to `0.95` -- this flag is only used in sample-based generation modes. You should set `do_sample=True` or unset `top_p`.\n",
            "  warnings.warn(\n"
          ]
        },
        {
          "output_type": "stream",
          "name": "stdout",
          "text": [
            "\n",
            "Final QA Result:\n",
            "\n",
            "Question: What is protein, and what role does it play in the human body?\n",
            "\n",
            "Answer: macromolecules composed of amino acids\n",
            "\n",
            "Source Documents:\n",
            "\n",
            "Document 1 (Page 424):\n",
            "Proteins are  the  “workhorses”  of the body  and  participate  in many  bodily\n",
            "functions.  Proteins  come in all  sizes and  shapes and  each is  specifically\n",
            "structured  for its  particular  function.  Protein’s Functions in the  Body\n",
            "UNIVERSITY OF HAWAI‘I AT MĀNOA FOOD SCIENCE AND HUMAN  NUTRITION PROGRAM AND\n",
            "HUMAN NUTRITION PROGRAM  Structure and Motion  Figure 6.9 Collagen Structure\n",
            "Protein’s Functions in the Body  |  383\n",
            "\n",
            "Document 2 (Page 404):\n",
            "Defining Protein  UNIVERSITY OF HAWAI‘I AT MĀNOA FOOD SCIENCE AND HUMAN\n",
            "NUTRITION PROGRAM AND HUMAN NUTRITION PROGRAM  Protein makes up approximately 20\n",
            "percent of the human body and  is present in e very sing le cell. The w ord\n",
            "protein is a Gr eek word,  meaning “of utmost importance.” Proteins are called\n",
            "the workhorses  of life as the y provide the bod y with structure and perf orm a\n",
            "v ast  array of functions. You can stand, walk, run, skate, swim, and mor e\n",
            "because o f y our pr otein-rich muscles. Pr otein is ne cessary f or  proper\n",
            "immune system func tion, digestion, and hair and nail  growth, and is in volved\n",
            "in numer ous other bod y functions. In fact,  it is estima ted tha t mor e than\n",
            "one hundr ed thousand dif ferent  proteins exist within the human body. In this\n",
            "chapter you will learn  about the c omponents of protein, the impor tant roles\n",
            "that protein  serves wi thin the bod y, ho w the bod y uses pr otein, the risks\n",
            "and\n",
            "\n",
            "Document 3 (Page 404):\n",
            "about the c omponents of protein, the impor tant roles that protein  serves wi\n",
            "thin the bod y, ho w the bod y uses pr otein, the risks and  consequences\n",
            "associa ted wi th too much or too li ttle protein, and  where to find healthy\n",
            "sources of it in your diet.  What Is Protein?  Proteins, simply put, are\n",
            "macromolecules composed of amino acids.  Amino acids are commonly called\n",
            "protein’s building blocks. Proteins  are crucial f or the nourishmen t, renewal,\n",
            "and c ontinuance o f lif e.  Proteins c ontain the elemen ts c arbon, h ydrogen,\n",
            "and o xygen just  as c arbohydrates and lipids do, but pr oteins ar e the onl y\n",
            "macronutrient tha t c ontains ni trogen. I n e ach amino acid the  elements are\n",
            "arranged into a specific conformation around a carbon  center. Each amino acid c\n",
            "onsists o f a c entral c arbon a tom  connected to a side chain, a hydrogen, a\n",
            "nitrogen-containing amino  group, and a c arboxylic acid gr oup—hence the name “\n",
            "amino acid.”  Defining Protein  |  363\n",
            "\n",
            "Document 4 (Page 53):\n",
            "Protein  Necessary for tissue formation, cell reparation, and  hormone and\n",
            "enzyme production. It is essential for  building strong muscles and a healthy\n",
            "immune system.  Carbohydrates  Provide a ready source of energy for the body and\n",
            "provide structural constituents for the formation of  cells.  Fat  Provides\n",
            "stored energy for the body, functions as  structural components of cells and\n",
            "also as signaling  molecules for proper cellular communication. It  provides\n",
            "insulation to vital organs and works to  maintain body temperature.  Vitamins\n",
            "Regulate body processes and promote normal  body-system functions.  Minerals\n",
            "Regulate body processes, are necessary for proper  cellular function, and\n",
            "comprise body tissue.  Water  Transports essential nutrients to all body parts,\n",
            "transports waste products for disposal, and aids with  body temperature\n",
            "maintenance.    Learning Activities  Technology Note: The second edition of the\n",
            "Human  Nutrition Open Educational Resource (OER) textbook\n",
            "\n",
            "Document 5 (Page 398):\n",
            "PART VI  CHAPTER 6. PROTEIN  Chapter 6. Protein  |  357\n"
          ]
        }
      ]
    }
  ]
}