{
 "cells": [
  {
   "cell_type": "code",
   "execution_count": 2,
   "id": "34f154dd-95ea-4ddd-8dbf-e1ade83be803",
   "metadata": {},
   "outputs": [
    {
     "name": "stdout",
     "output_type": "stream",
     "text": [
      "Collecting selenium\n",
      "  Downloading selenium-4.27.1-py3-none-any.whl.metadata (7.1 kB)\n",
      "Requirement already satisfied: urllib3<3,>=1.26 in c:\\users\\dell\\miniforge3\\lib\\site-packages (from urllib3[socks]<3,>=1.26->selenium) (2.2.1)\n",
      "Collecting trio~=0.17 (from selenium)\n",
      "  Downloading trio-0.27.0-py3-none-any.whl.metadata (8.6 kB)\n",
      "Collecting trio-websocket~=0.9 (from selenium)\n",
      "  Downloading trio_websocket-0.11.1-py3-none-any.whl.metadata (4.7 kB)\n",
      "Requirement already satisfied: certifi>=2021.10.8 in c:\\users\\dell\\miniforge3\\lib\\site-packages (from selenium) (2024.2.2)\n",
      "Requirement already satisfied: typing_extensions~=4.9 in c:\\users\\dell\\miniforge3\\lib\\site-packages (from selenium) (4.12.2)\n",
      "Requirement already satisfied: websocket-client~=1.8 in c:\\users\\dell\\miniforge3\\lib\\site-packages (from selenium) (1.8.0)\n",
      "Requirement already satisfied: attrs>=23.2.0 in c:\\users\\dell\\miniforge3\\lib\\site-packages (from trio~=0.17->selenium) (24.2.0)\n",
      "Collecting sortedcontainers (from trio~=0.17->selenium)\n",
      "  Downloading sortedcontainers-2.4.0-py2.py3-none-any.whl.metadata (10 kB)\n",
      "Requirement already satisfied: idna in c:\\users\\dell\\miniforge3\\lib\\site-packages (from trio~=0.17->selenium) (3.6)\n",
      "Collecting outcome (from trio~=0.17->selenium)\n",
      "  Downloading outcome-1.3.0.post0-py2.py3-none-any.whl.metadata (2.6 kB)\n",
      "Requirement already satisfied: sniffio>=1.3.0 in c:\\users\\dell\\miniforge3\\lib\\site-packages (from trio~=0.17->selenium) (1.3.1)\n",
      "Requirement already satisfied: cffi>=1.14 in c:\\users\\dell\\miniforge3\\lib\\site-packages (from trio~=0.17->selenium) (1.16.0)\n",
      "Requirement already satisfied: exceptiongroup in c:\\users\\dell\\miniforge3\\lib\\site-packages (from trio~=0.17->selenium) (1.2.2)\n",
      "Collecting wsproto>=0.14 (from trio-websocket~=0.9->selenium)\n",
      "  Downloading wsproto-1.2.0-py3-none-any.whl.metadata (5.6 kB)\n",
      "Requirement already satisfied: pysocks!=1.5.7,<2.0,>=1.5.6 in c:\\users\\dell\\miniforge3\\lib\\site-packages (from urllib3[socks]<3,>=1.26->selenium) (1.7.1)\n",
      "Requirement already satisfied: pycparser in c:\\users\\dell\\miniforge3\\lib\\site-packages (from cffi>=1.14->trio~=0.17->selenium) (2.22)\n",
      "Requirement already satisfied: h11<1,>=0.9.0 in c:\\users\\dell\\miniforge3\\lib\\site-packages (from wsproto>=0.14->trio-websocket~=0.9->selenium) (0.14.0)\n",
      "Downloading selenium-4.27.1-py3-none-any.whl (9.7 MB)\n",
      "   ---------------------------------------- 0.0/9.7 MB ? eta -:--:--\n",
      "   ---------------------------------------- 0.0/9.7 MB 1.3 MB/s eta 0:00:08\n",
      "   ---------------------------------------- 0.1/9.7 MB 1.1 MB/s eta 0:00:10\n",
      "    --------------------------------------- 0.2/9.7 MB 1.2 MB/s eta 0:00:08\n",
      "   - -------------------------------------- 0.3/9.7 MB 1.6 MB/s eta 0:00:06\n",
      "   - -------------------------------------- 0.4/9.7 MB 1.8 MB/s eta 0:00:06\n",
      "   -- ------------------------------------- 0.5/9.7 MB 2.0 MB/s eta 0:00:05\n",
      "   --- ------------------------------------ 0.7/9.7 MB 2.5 MB/s eta 0:00:04\n",
      "   ---- ----------------------------------- 1.0/9.7 MB 2.9 MB/s eta 0:00:04\n",
      "   ----- ---------------------------------- 1.2/9.7 MB 3.0 MB/s eta 0:00:03\n",
      "   ----- ---------------------------------- 1.4/9.7 MB 3.1 MB/s eta 0:00:03\n",
      "   ------- -------------------------------- 1.8/9.7 MB 3.6 MB/s eta 0:00:03\n",
      "   -------- ------------------------------- 2.0/9.7 MB 3.6 MB/s eta 0:00:03\n",
      "   -------- ------------------------------- 2.2/9.7 MB 3.6 MB/s eta 0:00:03\n",
      "   --------- ------------------------------ 2.3/9.7 MB 3.6 MB/s eta 0:00:03\n",
      "   ---------- ----------------------------- 2.5/9.7 MB 3.7 MB/s eta 0:00:02\n",
      "   ---------- ----------------------------- 2.5/9.7 MB 3.7 MB/s eta 0:00:02\n",
      "   ---------- ----------------------------- 2.5/9.7 MB 3.7 MB/s eta 0:00:02\n",
      "   ---------- ----------------------------- 2.5/9.7 MB 3.7 MB/s eta 0:00:02\n",
      "   ---------- ----------------------------- 2.6/9.7 MB 3.0 MB/s eta 0:00:03\n",
      "   ----------- ---------------------------- 2.9/9.7 MB 3.1 MB/s eta 0:00:03\n",
      "   ------------ --------------------------- 3.0/9.7 MB 3.1 MB/s eta 0:00:03\n",
      "   ------------ --------------------------- 3.1/9.7 MB 3.0 MB/s eta 0:00:03\n",
      "   ------------- -------------------------- 3.2/9.7 MB 3.0 MB/s eta 0:00:03\n",
      "   ------------- -------------------------- 3.3/9.7 MB 2.9 MB/s eta 0:00:03\n",
      "   ------------- -------------------------- 3.3/9.7 MB 2.9 MB/s eta 0:00:03\n",
      "   -------------- ------------------------- 3.6/9.7 MB 3.0 MB/s eta 0:00:03\n",
      "   ---------------- ----------------------- 4.0/9.7 MB 3.2 MB/s eta 0:00:02\n",
      "   ----------------- ---------------------- 4.2/9.7 MB 3.3 MB/s eta 0:00:02\n",
      "   ------------------ --------------------- 4.4/9.7 MB 3.3 MB/s eta 0:00:02\n",
      "   ------------------- -------------------- 4.6/9.7 MB 3.3 MB/s eta 0:00:02\n",
      "   ------------------- -------------------- 4.8/9.7 MB 3.3 MB/s eta 0:00:02\n",
      "   -------------------- ------------------- 5.0/9.7 MB 3.3 MB/s eta 0:00:02\n",
      "   --------------------- ------------------ 5.2/9.7 MB 3.4 MB/s eta 0:00:02\n",
      "   ---------------------- ----------------- 5.3/9.7 MB 3.4 MB/s eta 0:00:02\n",
      "   ---------------------- ----------------- 5.6/9.7 MB 3.4 MB/s eta 0:00:02\n",
      "   ----------------------- ---------------- 5.6/9.7 MB 3.4 MB/s eta 0:00:02\n",
      "   ------------------------ --------------- 5.8/9.7 MB 3.4 MB/s eta 0:00:02\n",
      "   ------------------------- -------------- 6.1/9.7 MB 3.4 MB/s eta 0:00:02\n",
      "   ------------------------- -------------- 6.3/9.7 MB 3.5 MB/s eta 0:00:01\n",
      "   -------------------------- ------------- 6.5/9.7 MB 3.5 MB/s eta 0:00:01\n",
      "   --------------------------- ------------ 6.6/9.7 MB 3.5 MB/s eta 0:00:01\n",
      "   ---------------------------- ----------- 6.8/9.7 MB 3.5 MB/s eta 0:00:01\n",
      "   ---------------------------- ----------- 7.0/9.7 MB 3.5 MB/s eta 0:00:01\n",
      "   ----------------------------- ---------- 7.1/9.7 MB 3.5 MB/s eta 0:00:01\n",
      "   ----------------------------- ---------- 7.1/9.7 MB 3.5 MB/s eta 0:00:01\n",
      "   ----------------------------- ---------- 7.1/9.7 MB 3.5 MB/s eta 0:00:01\n",
      "   ----------------------------- ---------- 7.1/9.7 MB 3.2 MB/s eta 0:00:01\n",
      "   ------------------------------- -------- 7.6/9.7 MB 3.4 MB/s eta 0:00:01\n",
      "   -------------------------------- ------- 7.9/9.7 MB 3.5 MB/s eta 0:00:01\n",
      "   ---------------------------------- ----- 8.3/9.7 MB 3.5 MB/s eta 0:00:01\n",
      "   ---------------------------------- ----- 8.4/9.7 MB 3.6 MB/s eta 0:00:01\n",
      "   ----------------------------------- ---- 8.6/9.7 MB 3.6 MB/s eta 0:00:01\n",
      "   ------------------------------------ --- 8.8/9.7 MB 3.6 MB/s eta 0:00:01\n",
      "   ------------------------------------- -- 9.0/9.7 MB 3.6 MB/s eta 0:00:01\n",
      "   ------------------------------------- -- 9.2/9.7 MB 3.6 MB/s eta 0:00:01\n",
      "   -------------------------------------- - 9.4/9.7 MB 3.6 MB/s eta 0:00:01\n",
      "   -------------------------------------- - 9.4/9.7 MB 3.6 MB/s eta 0:00:01\n",
      "   ---------------------------------------  9.6/9.7 MB 3.5 MB/s eta 0:00:01\n",
      "   ---------------------------------------  9.7/9.7 MB 3.6 MB/s eta 0:00:01\n",
      "   ---------------------------------------- 9.7/9.7 MB 3.5 MB/s eta 0:00:00\n",
      "Downloading trio-0.27.0-py3-none-any.whl (481 kB)\n",
      "   ---------------------------------------- 0.0/481.7 kB ? eta -:--:--\n",
      "   --------------- ------------------------ 184.3/481.7 kB 5.4 MB/s eta 0:00:01\n",
      "   ---------------------------------------  481.3/481.7 kB 6.0 MB/s eta 0:00:01\n",
      "   ---------------------------------------- 481.7/481.7 kB 4.3 MB/s eta 0:00:00\n",
      "Downloading trio_websocket-0.11.1-py3-none-any.whl (17 kB)\n",
      "Downloading wsproto-1.2.0-py3-none-any.whl (24 kB)\n",
      "Downloading outcome-1.3.0.post0-py2.py3-none-any.whl (10 kB)\n",
      "Downloading sortedcontainers-2.4.0-py2.py3-none-any.whl (29 kB)\n",
      "Installing collected packages: sortedcontainers, wsproto, outcome, trio, trio-websocket, selenium\n",
      "Successfully installed outcome-1.3.0.post0 selenium-4.27.1 sortedcontainers-2.4.0 trio-0.27.0 trio-websocket-0.11.1 wsproto-1.2.0\n",
      "Collecting webdriver-manager\n",
      "  Downloading webdriver_manager-4.0.2-py2.py3-none-any.whl.metadata (12 kB)\n",
      "Requirement already satisfied: requests in c:\\users\\dell\\miniforge3\\lib\\site-packages (from webdriver-manager) (2.31.0)\n",
      "Collecting python-dotenv (from webdriver-manager)\n",
      "  Downloading python_dotenv-1.0.1-py3-none-any.whl.metadata (23 kB)\n",
      "Requirement already satisfied: packaging in c:\\users\\dell\\miniforge3\\lib\\site-packages (from webdriver-manager) (24.0)\n",
      "Requirement already satisfied: charset-normalizer<4,>=2 in c:\\users\\dell\\miniforge3\\lib\\site-packages (from requests->webdriver-manager) (3.3.2)\n",
      "Requirement already satisfied: idna<4,>=2.5 in c:\\users\\dell\\miniforge3\\lib\\site-packages (from requests->webdriver-manager) (3.6)\n",
      "Requirement already satisfied: urllib3<3,>=1.21.1 in c:\\users\\dell\\miniforge3\\lib\\site-packages (from requests->webdriver-manager) (2.2.1)\n",
      "Requirement already satisfied: certifi>=2017.4.17 in c:\\users\\dell\\miniforge3\\lib\\site-packages (from requests->webdriver-manager) (2024.2.2)\n",
      "Downloading webdriver_manager-4.0.2-py2.py3-none-any.whl (27 kB)\n",
      "Downloading python_dotenv-1.0.1-py3-none-any.whl (19 kB)\n",
      "Installing collected packages: python-dotenv, webdriver-manager\n",
      "Successfully installed python-dotenv-1.0.1 webdriver-manager-4.0.2\n"
     ]
    }
   ],
   "source": [
    "!pip install selenium\n",
    "!pip install webdriver-manager"
   ]
  },
  {
   "cell_type": "code",
   "execution_count": 3,
   "id": "01e343c1-c500-4e3c-bc17-a01a72ab8cf9",
   "metadata": {},
   "outputs": [],
   "source": [
    "from selenium import webdriver\n",
    "from selenium.webdriver.edge.service import Service as EdgeService\n",
    "from selenium.webdriver.edge.options import Options as EdgeOptions\n",
    "from webdriver_manager.microsoft import EdgeChromiumDriverManager"
   ]
  },
  {
   "cell_type": "code",
   "execution_count": 4,
   "id": "2cafd80e-c990-4d4f-88fb-42f84995cfc9",
   "metadata": {},
   "outputs": [],
   "source": [
    "# Set up the Edge options for non-headless execution\n",
    "edge_options = EdgeOptions()\n",
    "edge_options.use_chromium = True  # Ensure Edge uses the Chromium engine\n",
    "# edge_options.add_argument('--headless')  # Remove this for non-headless mode\n",
    "edge_options.add_argument('start-maximized')  # Maximize the browser window\n",
    "edge_options.add_argument('--disable-infobars')  # Disable info bars"
   ]
  },
  {
   "cell_type": "code",
   "execution_count": 36,
   "id": "9d3764ff-a6fe-4389-a2fa-04fb24bcb469",
   "metadata": {},
   "outputs": [],
   "source": [
    "def start(edge_options):\n",
    "    # Set up the WebDriver with EdgeChromiumDriverManager\n",
    "    driver = webdriver.Edge(service=EdgeService(EdgeChromiumDriverManager().install()), options=edge_options)\n",
    "    return driver"
   ]
  },
  {
   "cell_type": "code",
   "execution_count": 6,
   "id": "04dc78c1-f67c-4027-a03f-61aa356f4e19",
   "metadata": {},
   "outputs": [],
   "source": [
    "# Navigate to a URL (replace with the desired URL)\n",
    "driver.get(\"https://codeforces.com/contest/1234/problem/A\")"
   ]
  },
  {
   "cell_type": "code",
   "execution_count": 8,
   "id": "feaf7857-91f9-4e87-a979-f942df84c54b",
   "metadata": {},
   "outputs": [
    {
     "name": "stderr",
     "output_type": "stream",
     "text": [
      "ERROR: Could not find a version that satisfies the requirement time (from versions: none)\n",
      "ERROR: No matching distribution found for time\n"
     ]
    }
   ],
   "source": [
    "!pip install time"
   ]
  },
  {
   "cell_type": "code",
   "execution_count": 10,
   "id": "fca044bf-0d2b-4ffa-bc5b-66a50639ad48",
   "metadata": {},
   "outputs": [],
   "source": [
    "from selenium.webdriver.common.by import By"
   ]
  },
  {
   "cell_type": "code",
   "execution_count": 11,
   "id": "b6ca09c7-9eae-478f-9381-fa2a90382293",
   "metadata": {},
   "outputs": [
    {
     "name": "stdout",
     "output_type": "stream",
     "text": [
      "codeforces.com\n",
      "Verifying you are human. This may take a few seconds.\n",
      "codeforces.com needs to review the security of your connection before proceeding.\n"
     ]
    }
   ],
   "source": [
    "import random\n",
    "\n",
    "# def human_like_delay(min_time=1, max_time=5):\n",
    "#     time.sleep(random.uniform(min_time, max_time))\n",
    "\n",
    "def get_problem_statement(contest_id, problem_index):\n",
    "    # URL of the specific problem page\n",
    "    url = f'https://codeforces.com/contest/{contest_id}/problem/{problem_index}'\n",
    "    \n",
    "    # Open the problem page\n",
    "    driver.get(url)\n",
    "    \n",
    "    # Wait for the page to fully load with a human-like delay\n",
    "    # human_like_delay(5, 10)\n",
    "    \n",
    "    try:\n",
    "        # Find the problem statement by its class name\n",
    "        problem_statement_element = driver.find_element(By.TAG_NAME, 'div')\n",
    "        problem_statement = problem_statement_element.text.strip()\n",
    "    except Exception as e:\n",
    "        problem_statement = f\"Failed to retrieve the problem statement. Error: {e}\"\n",
    "    \n",
    "    return problem_statement\n",
    "\n",
    "# Example: Get the problem statement from contest 1234 for problem A\n",
    "contest_id = 1234\n",
    "problem_index = 'A'\n",
    "problem_statement = get_problem_statement(contest_id, problem_index)\n",
    "\n",
    "# Print the problem statement\n",
    "print(problem_statement)"
   ]
  },
  {
   "cell_type": "code",
   "execution_count": 12,
   "id": "2eb962f0-61e0-4f2a-b646-034ac45ec79d",
   "metadata": {},
   "outputs": [],
   "source": [
    "url='https://codeforces.com/contest/1234/problem/A'"
   ]
  },
  {
   "cell_type": "code",
   "execution_count": 13,
   "id": "79013980-da5d-4b2a-823e-fe30b1ccf03f",
   "metadata": {},
   "outputs": [],
   "source": [
    "driver.get(url)"
   ]
  },
  {
   "cell_type": "code",
   "execution_count": 22,
   "id": "1449d9da-3679-499f-a67a-1b4febe68bbd",
   "metadata": {},
   "outputs": [],
   "source": [
    "checkbox_input=driver.find_element(By.TAG_NAME, 'input')"
   ]
  },
  {
   "cell_type": "code",
   "execution_count": 26,
   "id": "df97c7db-93e0-4e62-8d50-d6f22c8750b4",
   "metadata": {},
   "outputs": [],
   "source": [
    "driver.quit()"
   ]
  },
  {
   "cell_type": "code",
   "execution_count": 38,
   "id": "15550ba6-943a-495e-9895-35f3bb7914f2",
   "metadata": {},
   "outputs": [],
   "source": [
    "driver=start(edge_options)"
   ]
  },
  {
   "cell_type": "code",
   "execution_count": 39,
   "id": "ca3100a3-542b-47c9-a8f2-fdf357b8f8df",
   "metadata": {},
   "outputs": [
    {
     "data": {
      "text/plain": [
       "'https://codeforces.com/contest/1234/problem/A'"
      ]
     },
     "execution_count": 39,
     "metadata": {},
     "output_type": "execute_result"
    }
   ],
   "source": [
    "url"
   ]
  },
  {
   "cell_type": "code",
   "execution_count": 44,
   "id": "7ba102a1-59fa-467e-960b-7934ddbecffe",
   "metadata": {},
   "outputs": [],
   "source": [
    "driver.get('https://google.com')"
   ]
  },
  {
   "cell_type": "code",
   "execution_count": 45,
   "id": "5ef85abd-8c73-4c48-a68f-2f03af6994ed",
   "metadata": {},
   "outputs": [],
   "source": [
    "driver.get(url)"
   ]
  },
  {
   "cell_type": "code",
   "execution_count": 46,
   "id": "36cc620f-f493-4b53-ad47-c7139f00454e",
   "metadata": {},
   "outputs": [],
   "source": [
    "driver.quit()"
   ]
  },
  {
   "cell_type": "code",
   "execution_count": null,
   "id": "d81e09c6-64e4-4cb7-af30-38a1aad7c14e",
   "metadata": {},
   "outputs": [],
   "source": []
  }
 ],
 "metadata": {
  "kernelspec": {
   "display_name": "Python 3 (ipykernel)",
   "language": "python",
   "name": "python3"
  },
  "language_info": {
   "codemirror_mode": {
    "name": "ipython",
    "version": 3
   },
   "file_extension": ".py",
   "mimetype": "text/x-python",
   "name": "python",
   "nbconvert_exporter": "python",
   "pygments_lexer": "ipython3",
   "version": "3.10.14"
  }
 },
 "nbformat": 4,
 "nbformat_minor": 5
}
