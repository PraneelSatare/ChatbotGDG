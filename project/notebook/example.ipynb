{
 "cells": [
  {
   "cell_type": "code",
   "execution_count": 25,
   "metadata": {},
   "outputs": [
    {
     "name": "stderr",
     "output_type": "stream",
     "text": [
      "Processing batches: 100%|██████████| 110/110 [02:45<00:00,  1.50s/it]\n"
     ]
    },
    {
     "name": "stdout",
     "output_type": "stream",
     "text": [
      "Chatbot: I am here to assist you with competitive programming problems.\n",
      "\n",
      "Here are some relevant responses:\n",
      "1. 8 8\n",
      "abaabaab\n",
      "2. [Problem F - contest/2044]\n",
      "3. [Problem E - contest/2051]\n"
     ]
    }
   ],
   "source": [
    "from chatbotCB import Chatbot\n",
    "from embeddings import Embedder\n",
    "from vectorstore import VectorDatabase\n",
    "from ragretriever import RAGRetriever\n",
    "from langchain_community.document_loaders import TextLoader, JSONLoader\n",
    "\n",
    "\n",
    "\n",
    "# Initialize components\n",
    "loaders = [\n",
    "        TextLoader(r\"E:\\GDGCB4CP\\project\\data\\problem.txt\", encoding='utf-8'),\n",
    "        TextLoader(r\"E:\\GDGCB4CP\\project\\data\\editorial.txt\", encoding='utf-8'),\n",
    "        JSONLoader(r\"E:\\GDGCB4CP\\project\\data\\metadata.json\", '.', text_content=False)\n",
    "    ]\n",
    "\n",
    "embedder = Embedder()\n",
    "vector_db = VectorDatabase(index_type=\"IndexFlatIP\")\n",
    "retriever = RAGRetriever(embedder, vector_db)\n",
    "\n",
    "retriever.load_and_process_data(loaders)\n",
    "\n",
    "# Save FAISS index\n",
    "index_file_path = r\"E:\\GDGCB4CP\\project\\src\\vector_index.faiss\"\n",
    "vector_db.save_index(index_file_path)\n",
    "\n",
    "# Load FAISS index and test retrieval\n",
    "vector_db.load_index(index_file_path)\n",
    "\n",
    "system_message = \"I am here to assist you with competitive programming problems.\"\n",
    "chatbot = Chatbot(retriever, system_message)\n",
    "user_input = input(\" editorial of contest 2055\")\n",
    "if user_input.lower() in [\"exit\", \"quit\"]:\n",
    "    print(\"Chatbot: Goodbye!\")\n",
    "response = chatbot.generate_response(user_input)\n",
    "print(f\"Chatbot: {response}\")"
   ]
  },
  {
   "cell_type": "code",
   "execution_count": 26,
   "metadata": {},
   "outputs": [
    {
     "name": "stdout",
     "output_type": "stream",
     "text": [
      "Chatbot: I am here to assist you with competitive programming problems.\n",
      "\n",
      "Here are some relevant responses:\n",
      "1. abaababaThe correct output should be: 0010000When k=3, s1=aba, s2=abaab, we first filled in 2 short strings, but if we backtrack c=1 short string, it will be judged as unsolvable. This is how the error in std occurs. This situation only arises when the \"tail\" part of s2 is a prefix of s1.So, each time we calculate, we first use binary search to\n",
      "2. binary search to find how many are left. For the part where we moved forward by B occurrences, we can backtrack at most once, and then the binary search will take O(logB). Each time, we can at least fill in |s2| occurrences. The time complexity for calculating the answer becomes O(m|s2|logB), and the total complexity, due to O(n∑i=1log(ni))=O(n),\n",
      "3. to match is that a suffix of s1 has been moved to the beginning of $s_1$。As shown in the diagram.The alignment results in the following diagram.In the diagram, the case where |pre|>|suf| is shown. The other case follows similarly.pre+suf=suf+pre, and as can be seen from the diagram, here pre+suf needs to be \"misaligned but equal.\" This means that\n"
     ]
    }
   ],
   "source": [
    "response = chatbot.generate_response(\"what is solution of problem 2055/c\")\n",
    "print(f\"Chatbot: {response}\")"
   ]
  },
  {
   "cell_type": "code",
   "execution_count": 27,
   "metadata": {},
   "outputs": [
    {
     "name": "stdout",
     "output_type": "stream",
     "text": [
      "Chatbot: I am here to assist you with competitive programming problems.\n",
      "\n",
      "Here are some relevant responses:\n",
      "1. abaababaThe correct output should be: 0010000When k=3, s1=aba, s2=abaab, we first filled in 2 short strings, but if we backtrack c=1 short string, it will be judged as unsolvable. This is how the error in std occurs. This situation only arises when the \"tail\" part of s2 is a prefix of s1.So, each time we calculate, we first use binary search to\n",
      "2. binary search to find how many are left. For the part where we moved forward by B occurrences, we can backtrack at most once, and then the binary search will take O(logB). Each time, we can at least fill in |s2| occurrences. The time complexity for calculating the answer becomes O(m|s2|logB), and the total complexity, due to O(n∑i=1log(ni))=O(n),\n",
      "3. to match is that a suffix of s1 has been moved to the beginning of $s_1$。As shown in the diagram.The alignment results in the following diagram.In the diagram, the case where |pre|>|suf| is shown. The other case follows similarly.pre+suf=suf+pre, and as can be seen from the diagram, here pre+suf needs to be \"misaligned but equal.\" This means that\n"
     ]
    }
   ],
   "source": [
    "response = chatbot.generate_response(\"problem with tag dp math implementation\")\n",
    "print(f\"Chatbot: {response}\")"
   ]
  },
  {
   "cell_type": "code",
   "execution_count": 29,
   "metadata": {},
   "outputs": [
    {
     "name": "stdout",
     "output_type": "stream",
     "text": [
      "Chatbot: I am here to assist you with competitive programming problems.\n",
      "\n",
      "Here are some relevant responses:\n",
      "1. abaababaThe correct output should be: 0010000When k=3, s1=aba, s2=abaab, we first filled in 2 short strings, but if we backtrack c=1 short string, it will be judged as unsolvable. This is how the error in std occurs. This situation only arises when the \"tail\" part of s2 is a prefix of s1.So, each time we calculate, we first use binary search to\n",
      "2. binary search to find how many are left. For the part where we moved forward by B occurrences, we can backtrack at most once, and then the binary search will take O(logB). Each time, we can at least fill in |s2| occurrences. The time complexity for calculating the answer becomes O(m|s2|logB), and the total complexity, due to O(n∑i=1log(ni))=O(n),\n",
      "3. OutputFor each test case, output m integers — the minimum sum of Kevin's ranks for each  k = 1, 2, ldots, m.\n",
      "InputCopy44 44 3 7 52 5 4 65 55 0 4 8 61 3 9 2 76 71 1 4 5 1 41 9 1 9 8 1 07 61 9 1 9 8 1 01 1 4 5 1 4\n",
      "InputCopy\n",
      "Copy\n",
      "4\n",
      "4 4\n",
      "4 3 7 5\n",
      "2 5 4 6\n",
      "5 5\n",
      "5 0 4 8 6\n",
      "1 3 9 2 7\n",
      "6 7\n",
      "1 1 4 5 1 4\n",
      "1 9 1 9 8 1 0\n",
      "7 6\n",
      "1 9 1 9 8 1 0\n",
      "1 1 4 5 1 4\n"
     ]
    }
   ],
   "source": [
    "response = chatbot.generate_response(\"contest 2052\")\n",
    "print(f\"Chatbot: {response}\")"
   ]
  },
  {
   "cell_type": "code",
   "execution_count": 30,
   "metadata": {},
   "outputs": [
    {
     "name": "stdout",
     "output_type": "stream",
     "text": [
      "Chatbot: I am here to assist you with competitive programming problems.\n",
      "\n",
      "Here are some relevant responses:\n",
      "1. abaababaThe correct output should be: 0010000When k=3, s1=aba, s2=abaab, we first filled in 2 short strings, but if we backtrack c=1 short string, it will be judged as unsolvable. This is how the error in std occurs. This situation only arises when the \"tail\" part of s2 is a prefix of s1.So, each time we calculate, we first use binary search to\n",
      "2. OutputFor each test case, output m integers — the minimum sum of Kevin's ranks for each  k = 1, 2, ldots, m.\n",
      "InputCopy44 44 3 7 52 5 4 65 55 0 4 8 61 3 9 2 76 71 1 4 5 1 41 9 1 9 8 1 07 61 9 1 9 8 1 01 1 4 5 1 4\n",
      "InputCopy\n",
      "Copy\n",
      "4\n",
      "4 4\n",
      "4 3 7 5\n",
      "2 5 4 6\n",
      "5 5\n",
      "5 0 4 8 6\n",
      "1 3 9 2 7\n",
      "6 7\n",
      "1 1 4 5 1 4\n",
      "1 9 1 9 8 1 0\n",
      "7 6\n",
      "1 9 1 9 8 1 0\n",
      "1 1 4 5 1 4\n",
      "3. OutputFor each set of input data, output a single integer on a separate line — the smallest possible value of f(a)f(a).\n",
      "InputCopy61 0488433 12 3 25 31 2 3 4 57 04 7 1 3 2 4 111 43 2 1 4 4 3 4 2 1 3 35 51 2 3 4 5\n",
      "InputCopy\n",
      "Copy\n",
      "6\n",
      "1 0\n",
      "48843\n",
      "3 1\n",
      "2 3 2\n",
      "5 3\n",
      "1 2 3 4 5\n",
      "7 0\n",
      "4 7 1 3 2 4 1\n",
      "11 4\n",
      "3 2 1 4 4 3 4 2 1 3 3\n",
      "5 5\n",
      "1 2 3 4 5\n",
      "OutputCopy1\n",
      "1\n",
      "2\n",
      "5\n",
      "2\n",
      "1\n"
     ]
    }
   ],
   "source": [
    "response = chatbot.generate_response(\"how do isolve problem C of contest #2048\")\n",
    "print(f\"Chatbot: {response}\")"
   ]
  }
 ],
 "metadata": {
  "kernelspec": {
   "display_name": "v_env",
   "language": "python",
   "name": "python3"
  },
  "language_info": {
   "codemirror_mode": {
    "name": "ipython",
    "version": 3
   },
   "file_extension": ".py",
   "mimetype": "text/x-python",
   "name": "python",
   "nbconvert_exporter": "python",
   "pygments_lexer": "ipython3",
   "version": "3.12.3"
  }
 },
 "nbformat": 4,
 "nbformat_minor": 2
}
