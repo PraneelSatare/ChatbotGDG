{
 "cells": [
  {
   "cell_type": "code",
   "execution_count": 1,
   "metadata": {},
   "outputs": [],
   "source": [
    "from bs4 import BeautifulSoup\n",
    "import requests\n",
    "from selenium import webdriver\n",
    "from selenium . webdriver import Chrome\n",
    "from selenium . webdriver . chrome . options import Options\n",
    "from selenium . webdriver . chrome . service import Service\n",
    "import os\n",
    "import json\n",
    "import lxml \n",
    "import time"
   ]
  },
  {
   "cell_type": "code",
   "execution_count": 2,
   "metadata": {},
   "outputs": [],
   "source": [
    "PATH = \"C:\\Program Files (x86)\\chromedriver.exe\"\n",
    "l = 5\n",
    "URL = \"https://codeforces.com/problemset/page/{i}\"\n",
    "CODEFORCES_URL = \"https://codeforces.com\"   \n",
    "from config import PROBLEM_DIR, METADATA_DIR, EDITORIAL_DIR\n"
   ]
  },
  {
   "cell_type": "code",
   "execution_count": null,
   "metadata": {},
   "outputs": [],
   "source": []
  },
  {
   "cell_type": "code",
   "execution_count": 3,
   "metadata": {},
   "outputs": [
    {
     "name": "stdout",
     "output_type": "stream",
     "text": [
      "Problemset - Codeforces\n"
     ]
    }
   ],
   "source": [
    "import undetected_chromedriver as uc\n",
    "driver = uc.Chrome(version_main=131,use_subprocess=False)\n",
    "driver.get(URL)\n",
    "print(driver.title)\n",
    "time.sleep(5)\n",
    "driver.quit()"
   ]
  },
  {
   "cell_type": "code",
   "execution_count": 4,
   "metadata": {},
   "outputs": [],
   "source": [
    "from urllib.request import Request, urlopen\n",
    "\n",
    "# req = Request(\n",
    "#     url=URL, \n",
    "#     headers={'User-Agent': 'Mozilla/5.0'}\n",
    "# )\n",
    "# webpage = urlopen(req).read()"
   ]
  },
  {
   "cell_type": "code",
   "execution_count": 5,
   "metadata": {},
   "outputs": [
    {
     "name": "stdout",
     "output_type": "stream",
     "text": [
      "[{'#': '2063F2', 'Name': 'Counting Is Not Fun (Hard Version) combinatorics, data structures, dfs and similar, dsu, graphs, implementation, trees', 'Rating': ''}, {'#': '2063F1', 'Name': 'Counting Is Not Fun (Easy Version) combinatorics, data structures, dfs and similar, dp, dsu, graphs, implementation, math, trees', 'Rating': ''}, {'#': '2063E', 'Name': 'Triangle Tree constructive algorithms, data structures, dfs and similar, dp, dsu, graphs, greedy, implementation, math, trees', 'Rating': ''}, {'#': '2063D', 'Name': 'Game With Triangles binary search, data structures, geometry, greedy, math, ternary search, two pointers', 'Rating': ''}, {'#': '2063C', 'Name': 'Remove Exactly Two brute force, data structures, dfs and similar, dp, graphs, greedy, sortings, trees', 'Rating': ''}, {'#': '2063B', 'Name': 'Subsequence Update constructive algorithms, data structures, greedy, sortings', 'Rating': ''}, {'#': '2063A', 'Name': 'Minimal Coprime math, number theory', 'Rating': ''}, {'#': '2061I', 'Name': 'Kevin and Nivek divide and conquer, dp', 'Rating': ''}, {'#': '2061H2', 'Name': 'Kevin and Stones (Hard Version) flows, graphs', 'Rating': ''}, {'#': '2061H1', 'Name': 'Kevin and Stones (Easy Version) flows, graph matchings, graphs', 'Rating': ''}, {'#': '2061G', 'Name': 'Kevin and Teams constructive algorithms, graphs, interactive', 'Rating': ''}, {'#': '2061F2', 'Name': 'Kevin and Binary String (Hard Version) constructive algorithms, data structures, dp', 'Rating': ''}, {'#': '2061F1', 'Name': 'Kevin and Binary String (Easy Version) constructive algorithms, dp, greedy', 'Rating': ''}, {'#': '2061E', 'Name': 'Kevin and And bitmasks, brute force, dp, greedy, math', 'Rating': ''}, {'#': '2061D', 'Name': 'Kevin and Numbers data structures, greedy', 'Rating': ''}, {'#': '2061C', 'Name': 'Kevin and Puzzle dp', 'Rating': ''}, {'#': '2061B', 'Name': 'Kevin and Geometry brute force, geometry, greedy, implementation, sortings', 'Rating': ''}, {'#': '2061A', 'Name': 'Kevin and Arithmetic greedy, math', 'Rating': ''}, {'#': '2060G', 'Name': 'Bugged Sort dp, greedy, sortings', 'Rating': ''}, {'#': '2060F', 'Name': 'Multiplicative Arrays combinatorics, dp, number theory', 'Rating': ''}, {'#': '2060E', 'Name': 'Graph Composition dfs and similar, dsu, graphs, greedy', 'Rating': ''}, {'#': '2060D', 'Name': 'Subtract Min Sort greedy', 'Rating': ''}, {'#': '2060C', 'Name': 'Game of Mathletes games, greedy, sortings, two pointers', 'Rating': ''}, {'#': '2060B', 'Name': \"Farmer John's Card Game greedy, sortings\", 'Rating': ''}, {'#': '2060A', 'Name': 'Fibonacciness brute force', 'Rating': ''}, {'#': '2057H', 'Name': 'Coffee Break data structures, greedy, math', 'Rating': '3500'}, {'#': '2057G', 'Name': 'Secret Message constructive algorithms, dfs and similar, math', 'Rating': '3000'}, {'#': '2057F', 'Name': 'Formation binary search, data structures, dp, sortings, two pointers', 'Rating': '3300'}, {'#': '2057E2', 'Name': 'Another Exercise on Graphs (hard version) binary search, dfs and similar, dp, dsu, graphs, shortest paths, sortings', 'Rating': '2500'}, {'#': '2057E1', 'Name': 'Another Exercise on Graphs (Easy Version) binary search, brute force, dp, dsu, graphs, shortest paths, sortings', 'Rating': '2300'}, {'#': '2057D', 'Name': 'Gifts Order data structures, greedy, implementation, math, matrices', 'Rating': '2000'}, {'#': '2057C', 'Name': 'Trip to the Olympiad bitmasks, constructive algorithms, greedy, math', 'Rating': '1500'}, {'#': '2057B', 'Name': 'Gorilla and the Exam greedy, sortings', 'Rating': '1000'}, {'#': '2057A', 'Name': 'MEX Table constructive algorithms, math', 'Rating': '800'}, {'#': '2056F2', 'Name': 'Xor of Median (Hard Version) bitmasks, brute force, combinatorics, dp, math', 'Rating': ''}, {'#': '2056F1', 'Name': 'Xor of Median (Easy Version) bitmasks, brute force, combinatorics, dp, math', 'Rating': ''}, {'#': '2056E', 'Name': 'Nested Segments combinatorics, dfs and similar, dp, dsu, math', 'Rating': ''}, {'#': '2056D', 'Name': 'Unique Median binary search, brute force, combinatorics, data structures, divide and conquer, dp', 'Rating': ''}, {'#': '2056C', 'Name': 'Palindromic Subsequences brute force, constructive algorithms, math', 'Rating': ''}, {'#': '2056B', 'Name': 'Find the Permutation brute force, dfs and similar, graphs, implementation, sortings', 'Rating': ''}, {'#': '2056A', 'Name': 'Shape Perimeter constructive algorithms, math', 'Rating': ''}, {'#': '2055F', 'Name': 'Cosmic Divide brute force, geometry, hashing, math, strings', 'Rating': ''}, {'#': '2055E', 'Name': 'Haystacks brute force, constructive algorithms, data structures, greedy, sortings', 'Rating': ''}, {'#': '2055D', 'Name': 'Scarecrow greedy, implementation, math', 'Rating': ''}, {'#': '2055C', 'Name': 'The Trail brute force, constructive algorithms, greedy, math, two pointers', 'Rating': ''}, {'#': '2055B', 'Name': 'Crafting constructive algorithms, greedy, sortings', 'Rating': ''}, {'#': '2055A', 'Name': 'Two Frogs constructive algorithms, games, greedy, math', 'Rating': ''}, {'#': '2053I2', 'Name': 'Affectionate Arrays (Hard Version) data structures, dp, graphs, greedy, math, shortest paths, two pointers', 'Rating': '3500'}, {'#': '2053I1', 'Name': 'Affectionate Arrays (Easy Version) data structures, dp, greedy', 'Rating': '2800'}, {'#': '2053H', 'Name': 'Delicate Anti-monotonous Operations constructive algorithms, implementation', 'Rating': '3500'}, {'#': '2053G', 'Name': 'Naive String Splits binary search, brute force, greedy, hashing, math, number theory, strings', 'Rating': '3400'}, {'#': '2053F', 'Name': 'Earnest Matrix Complement brute force, data structures, dp, greedy, implementation, math', 'Rating': '2600'}, {'#': '2053E', 'Name': 'Resourceful Caterpillar Sequence dfs and similar, dp, games, graphs, greedy, trees', 'Rating': '1900'}, {'#': '2053D', 'Name': 'Refined Product Optimality binary search, data structures, greedy, math, schedules, sortings', 'Rating': '1700'}, {'#': '2053C', 'Name': 'Bewitching Stargazer bitmasks, divide and conquer, dp, math', 'Rating': '1500'}, {'#': '2053B', 'Name': 'Outstanding Impressionist binary search, brute force, data structures, greedy', 'Rating': '1200'}, {'#': '2053A', 'Name': 'Tender Carpenter dp, geometry, greedy, math', 'Rating': '800'}, {'#': '2052M', 'Name': 'Managing Cluster dp, graphs, math, trees', 'Rating': '2700'}, {'#': '2052L', 'Name': 'Legacy Screensaver', 'Rating': '2900'}, {'#': '2052K', 'Name': 'Knowns and Unknowns', 'Rating': '2800'}, {'#': '2052J', 'Name': 'Judicious Watching binary search, greedy, sortings', 'Rating': '2000'}, {'#': '2052I', 'Name': 'Incompetent Delivery Guy graphs, shortest paths', 'Rating': '2800'}, {'#': '2052H', 'Name': 'Hunting Hoglins in Hogwarts interactive', 'Rating': '3500'}, {'#': '2052G', 'Name': 'Geometric Balance data structures, geometry, implementation', 'Rating': '2800'}, {'#': '2052F', 'Name': 'Fix Flooded Floor constructive algorithms, dp, graphs', 'Rating': '1700'}, {'#': '2052E', 'Name': 'Expression Correction brute force, expression parsing, strings', 'Rating': '1900'}, {'#': '2052D', 'Name': 'DAG Serialization brute force, graphs', 'Rating': '2100'}, {'#': '2052C', 'Name': 'Cactus without Bridges constructive algorithms, math', 'Rating': '3500'}, {'#': '2052B', 'Name': 'BitBitJump', 'Rating': '2400'}, {'#': '2052A', 'Name': 'Adrenaline Rush constructive algorithms', 'Rating': '1600'}, {'#': '2051G', 'Name': 'Snakes bitmasks, dp, dsu, graphs', 'Rating': '2100'}, {'#': '2051F', 'Name': 'Joker brute force, greedy, implementation, math', 'Rating': '2000'}, {'#': '2051E', 'Name': 'Best Price binary search, brute force, data structures, greedy, sortings', 'Rating': '1600'}, {'#': '2051D', 'Name': 'Counting Pairs binary search, sortings, two pointers', 'Rating': '1200'}, {'#': '2051C', 'Name': 'Preparing for the Exam constructive algorithms, implementation', 'Rating': '1000'}, {'#': '2051B', 'Name': 'Journey binary search, math', 'Rating': '800'}, {'#': '2051A', 'Name': 'Preparing for the Olympiad greedy', 'Rating': '800'}, {'#': '2050G', 'Name': 'Tree Destruction dfs and similar, dp, trees', 'Rating': '1900'}, {'#': '2050F', 'Name': 'Maximum modulo equality data structures, divide and conquer, math, number theory', 'Rating': '1700'}, {'#': '2050E', 'Name': 'Three Strings dp, implementation, strings', 'Rating': '1500'}, {'#': '2050D', 'Name': 'Digital string maximization brute force, greedy, math, strings', 'Rating': '1300'}, {'#': '2050C', 'Name': 'Uninteresting Number brute force, dp, math', 'Rating': '1200'}, {'#': '2050B', 'Name': 'Transfusion brute force, greedy, math', 'Rating': '1100'}, {'#': '2050A', 'Name': 'Line Breaks implementation', 'Rating': '800'}, {'#': '2049F', 'Name': 'MEX OR Mania bitmasks, brute force, data structures, dsu, implementation', 'Rating': '2700'}, {'#': '2049E', 'Name': 'Broken Queries binary search, bitmasks, brute force, constructive algorithms, implementation, interactive', 'Rating': '2400'}, {'#': '2049D', 'Name': 'Shift + Esc brute force, dp', 'Rating': '1900'}, {'#': '2049C', 'Name': 'MEX Cycle brute force, constructive algorithms, greedy, implementation', 'Rating': '1500'}, {'#': '2049B', 'Name': 'pspspsps brute force, constructive algorithms, graph matchings, implementation', 'Rating': '1300'}, {'#': '2049A', 'Name': 'MEX Destruction greedy, implementation', 'Rating': '800'}, {'#': '2048I2', 'Name': 'Kevin and Puzzle (Hard Version) bitmasks, fft, math', 'Rating': '3500'}, {'#': '2048I1', 'Name': 'Kevin and Puzzle (Easy Version) constructive algorithms', 'Rating': '3500'}, {'#': '2048H', 'Name': 'Kevin and Strange Operation data structures, dp', 'Rating': '3100'}, {'#': '2048G', 'Name': 'Kevin and Matrices brute force, combinatorics, dp, math', 'Rating': '2800'}, {'#': '2048F', 'Name': 'Kevin and Math Class brute force, data structures, divide and conquer, dp, implementation, math, trees', 'Rating': '2500'}, {'#': '2048E', 'Name': 'Kevin and Bipartite Graph constructive algorithms, graphs, greedy', 'Rating': '2000'}, {'#': '2048D', 'Name': 'Kevin and Competition Memories binary search, brute force, data structures, greedy, sortings, two pointers', 'Rating': '1600'}, {'#': '2048C', 'Name': 'Kevin and Binary Strings bitmasks, brute force, greedy, implementation, strings', 'Rating': '1200'}, {'#': '2048B', 'Name': 'Kevin and Permutation constructive algorithms, greedy', 'Rating': '900'}, {'#': '2048A', 'Name': 'Kevin and Combination Lock brute force, greedy, implementation, math, number theory', 'Rating': '800'}, {'#': '2047B', 'Name': 'Replace Character brute force, combinatorics, greedy, strings', 'Rating': '900'}, {'#': '2047A', 'Name': 'Alyona and a Square Jigsaw Puzzle implementation, math', 'Rating': '800'}, {'#': '2046F2', 'Name': 'Yandex Cuneiform (Hard Version) constructive algorithms, data structures, greedy, implementation', 'Rating': '3500'}, {'#': '2046F1', 'Name': 'Yandex Cuneiform (Easy Version) constructive algorithms, data structures, greedy', 'Rating': '3300'}, {'#': '2046E2', 'Name': 'Cheops and a Contest (Hard Version) greedy, implementation', 'Rating': '3500'}, {'#': '2046E1', 'Name': 'Cheops and a Contest (Easy Version) constructive algorithms, greedy', 'Rating': '2900'}, {'#': '2046D', 'Name': 'For the Emperor! flows, graphs', 'Rating': '3100'}, {'#': '2046C', 'Name': 'Adventurers binary search, data structures, greedy, sortings, ternary search, two pointers', 'Rating': '2100'}, {'#': '2046B', 'Name': 'Move Back at a Cost binary search, data structures, greedy, sortings', 'Rating': '1600'}, {'#': '2046A', 'Name': 'Swap Columns and Find a Path greedy, sortings', 'Rating': '1200'}, {'#': '2045M', 'Name': 'Mirror Maze brute force, dfs and similar, graphs, implementation', 'Rating': '1800'}, {'#': '2045L', 'Name': 'Buggy DFS constructive algorithms', 'Rating': '3000'}, {'#': '2045K', 'Name': 'GCDDCG', 'Rating': '2900'}, {'#': '2045J', 'Name': 'Xorderable Array bitmasks, data structures', 'Rating': '2600'}, {'#': '2045I', 'Name': 'Microwavable Subsequence data structures', 'Rating': '2100'}, {'#': '2045H', 'Name': 'Missing Separators dp, sortings, string suffix structures, strings', 'Rating': '2200'}, {'#': '2045G', 'Name': 'X Aura graphs, math, shortest paths', 'Rating': '2200'}, {'#': '2045F', 'Name': 'Grid Game 3-angle games, math', 'Rating': '3000'}, {'#': '2045E', 'Name': 'Narrower Passageway combinatorics, data structures', 'Rating': '2700'}, {'#': '2045D', 'Name': 'Aquatic Dragon', 'Rating': '3500'}, {'#': '2045C', 'Name': 'Saraga greedy, strings', 'Rating': '1400'}, {'#': '2045B', 'Name': 'ICPC Square math, number theory', 'Rating': '2000'}, {'#': '2045A', 'Name': 'Scrambled Scrabble brute force, greedy', 'Rating': '1700'}, {'#': '2044H', 'Name': 'Hard Demon Problem constructive algorithms, data structures, dp, implementation, math', 'Rating': '2100'}, {'#': '2044G2', 'Name': 'Medium Demon Problem (hard version) dfs and similar, dp, dsu, graphs, implementation, trees', 'Rating': '1900'}, {'#': '2044G1', 'Name': 'Medium Demon Problem (easy version) dfs and similar, graph matchings, graphs, implementation, trees', 'Rating': '1700'}, {'#': '2044F', 'Name': 'Easy Demon Problem binary search, brute force, data structures, math, number theory', 'Rating': '1900'}, {'#': '2044E', 'Name': 'Insane Problem binary search, greedy, implementation, math, number theory', 'Rating': '1300'}, {'#': '2044D', 'Name': 'Harder Problem constructive algorithms, greedy, math', 'Rating': '1100'}, {'#': '2044C', 'Name': 'Hard Problem greedy, math', 'Rating': '800'}, {'#': '2044B', 'Name': 'Normal Problem implementation, strings', 'Rating': '800'}, {'#': '2044A', 'Name': 'Easy Problem brute force, math', 'Rating': '800'}, {'#': '2043G', 'Name': 'Problem with Queries brute force, data structures, implementation', 'Rating': '3000'}, {'#': '2043F', 'Name': 'Nim bitmasks, brute force, combinatorics, dp, games, greedy, implementation, shortest paths', 'Rating': '2700'}, {'#': '2043E', 'Name': 'Matrix Transformation bitmasks, brute force, data structures, dfs and similar, graphs, greedy, implementation', 'Rating': '2300'}, {'#': '2043D', 'Name': 'Problem about GCD brute force, flows, math, number theory', 'Rating': '1800'}, {'#': '2043C', 'Name': 'Sums on Segments binary search, brute force, data structures, dp, greedy, math', 'Rating': '1600'}, {'#': '2043B', 'Name': 'Digits math, number theory', 'Rating': '1100'}, {'#': '2043A', 'Name': 'Coin Transformation brute force, math', 'Rating': '800'}, {'#': '2042F', 'Name': 'Two Subarrays data structures, dp, implementation, matrices', 'Rating': '2600'}, {'#': '2042E', 'Name': 'Vertex Pairs binary search, brute force, data structures, dfs and similar, divide and conquer, greedy, implementation, trees', 'Rating': '2900'}, {'#': '2042D', 'Name': 'Recommendations data structures, implementation, sortings, two pointers', 'Rating': '1900'}, {'#': '2042C', 'Name': 'Competitive Fishing greedy', 'Rating': '1800'}, {'#': '2042B', 'Name': 'Game with Colored Marbles games, greedy', 'Rating': '900'}, {'#': '2042A', 'Name': 'Greedy Monocarp greedy, sortings', 'Rating': '800'}, {'#': '2041N', 'Name': 'Railway Construction', 'Rating': '3300'}, {'#': '2041M', 'Name': 'Selection Sort binary search, data structures, greedy, two pointers', 'Rating': '2000'}, {'#': '2041L', 'Name': 'Building Castle', 'Rating': '2900'}, {'#': '2041K', 'Name': 'Trophic Balance Species binary search, brute force, dfs and similar, graphs', 'Rating': '3100'}, {'#': '2041J', 'Name': 'Bottle Arrangement data structures, divide and conquer, dp, dsu, greedy', 'Rating': '2700'}, {'#': '2041I', 'Name': 'Auto Complete binary search, data structures, hashing, implementation, sortings, strings, trees', 'Rating': '2300'}, {'#': '2041H', 'Name': 'Sheet Music combinatorics, dp, math', 'Rating': '2300'}, {'#': '2041G', 'Name': 'Grid Game', 'Rating': '3100'}, {'#': '2041F', 'Name': 'Segmentation Folds brute force, dfs and similar, number theory', 'Rating': '2400'}, {'#': '2041E', 'Name': 'Beautiful Array constructive algorithms, math', 'Rating': '1200'}, {'#': '2041D', 'Name': 'Drunken Maze brute force, dfs and similar, graphs, shortest paths', 'Rating': '1700'}, {'#': '2041C', 'Name': 'Cube bitmasks, dfs and similar, dp', 'Rating': '2000'}, {'#': '2041B', 'Name': 'Bowling Frame binary search, brute force, math', 'Rating': '1200'}, {'#': '2041A', 'Name': 'The Bento Box Adventure implementation, sortings', 'Rating': '1300'}, {'#': '2040F', 'Name': 'Number of Cubes combinatorics, dp, math, number theory', 'Rating': '2700'}, {'#': '2040E', 'Name': 'Control of Randomness combinatorics, dfs and similar, dp, graphs, greedy, math, probabilities, trees', 'Rating': '2100'}, {'#': '2040D', 'Name': 'Non Prime Tree brute force, constructive algorithms, dfs and similar, greedy, number theory, trees, two pointers', 'Rating': '1900'}, {'#': '2040C', 'Name': 'Ordered Permutations bitmasks, combinatorics, constructive algorithms, greedy, math, two pointers', 'Rating': '1600'}, {'#': '2040B', 'Name': 'Paint a Strip constructive algorithms, greedy, math', 'Rating': '1000'}, {'#': '2040A', 'Name': 'Game of Division games, math', 'Rating': '800'}, {'#': '2039H2', 'Name': 'Cool Swap Walk (Hard Version) constructive algorithms, constructive algorithms, constructive algorithms, implementation, sortings', 'Rating': '3500'}, {'#': '2039H1', 'Name': 'Cool Swap Walk (Easy Version) constructive algorithms, implementation, sortings', 'Rating': '3500'}, {'#': '2039G', 'Name': 'Shohag Loves Pebae math, number theory', 'Rating': '3500'}, {'#': '2039F2', 'Name': 'Shohag Loves Counting (Hard Version) dp, number theory', 'Rating': '3200'}, {'#': '2039F1', 'Name': 'Shohag Loves Counting (Easy Version) combinatorics, dp, math, number theory', 'Rating': '2800'}, {'#': '2039E', 'Name': 'Shohag Loves Inversions combinatorics, dp, implementation, math', 'Rating': '2200'}, {'#': '2039D', 'Name': 'Shohag Loves GCD constructive algorithms, greedy, math, number theory', 'Rating': '1700'}, {'#': '2039C2', 'Name': 'Shohag Loves XOR (Hard Version) bitmasks, brute force, math, number theory', 'Rating': '1800'}, {'#': '2039C1', 'Name': 'Shohag Loves XOR (Easy Version) bitmasks, brute force, math, number theory', 'Rating': '1200'}, {'#': '2039B', 'Name': 'Shohag Loves Strings constructive algorithms, greedy, implementation, strings', 'Rating': '1000'}, {'#': '2039A', 'Name': 'Shohag Loves Mod constructive algorithms, number theory', 'Rating': '800'}, {'#': '2038N', 'Name': 'Fixing the Expression implementation', 'Rating': '800'}, {'#': '2038M', 'Name': 'Royal Flush dp, implementation', 'Rating': '2800'}, {'#': '2038L', 'Name': 'Bridge Renovation brute force, dp, greedy, math, two pointers', 'Rating': '1400'}, {'#': '2038K', 'Name': 'Grid Walk brute force, dp, greedy, math, number theory', 'Rating': '2100'}, {'#': '2038J', 'Name': 'Waiting for... greedy, implementation', 'Rating': '800'}, {'#': '2038I', 'Name': 'Polyathlon binary search, data structures, hashing, string suffix structures, strings', 'Rating': '2500'}, {'#': '2038H', 'Name': 'Galactic Council flows', 'Rating': '3000'}, {'#': '2038G', 'Name': 'Guess One Character constructive algorithms, implementation, interactive', 'Rating': '1900'}, {'#': '2038F', 'Name': 'Alternative Platforms combinatorics, data structures, fft, math, sortings', 'Rating': '2500'}, {'#': '2038E', 'Name': 'Barrels data structures, greedy, math', 'Rating': '2900'}, {'#': '2038D', 'Name': 'Divide OR Conquer binary search, bitmasks, data structures, dp, implementation', 'Rating': '2400'}, {'#': '2038C', 'Name': 'DIY data structures, geometry, greedy, sortings', 'Rating': '1400'}, {'#': '2038B', 'Name': 'Make It Equal binary search, brute force, greedy, math', 'Rating': '2100'}, {'#': '2038A', 'Name': 'Bonus Project games, greedy', 'Rating': '1400'}, {'#': '2037G', 'Name': 'Natlan Exploring bitmasks, combinatorics, data structures, dp, math, number theory', 'Rating': '2000'}, {'#': '2037F', 'Name': 'Ardent Flames binary search, data structures, math, sortings, two pointers', 'Rating': '2100'}, {'#': '2037E', 'Name': \"Kachina's Favorite Binary String dp, greedy, interactive, two pointers\", 'Rating': '1600'}, {'#': '2037D', 'Name': 'Sharky Surfing data structures, greedy, two pointers', 'Rating': '1300'}, {'#': '2037C', 'Name': \"Superultra's Favorite Permutation constructive algorithms, greedy, math, number theory\", 'Rating': '1000'}, {'#': '2037B', 'Name': 'Intercepted Inputs brute force, implementation', 'Rating': '800'}, {'#': '2037A', 'Name': 'Twice implementation', 'Rating': '800'}, {'#': '2036G', 'Name': 'Library of Magic binary search, constructive algorithms, divide and conquer, interactive, math, number theory', 'Rating': '2200'}, {'#': '2036F', 'Name': 'XORificator 3000 bitmasks, dp, number theory, two pointers', 'Rating': '1900'}, {'#': '2036E', 'Name': 'Reverse the Rivers binary search, constructive algorithms, data structures, greedy', 'Rating': '1600'}, {'#': '2036D', 'Name': 'I Love 1543 brute force, implementation, matrices', 'Rating': '1300'}, {'#': '2036C', 'Name': 'Anya and 1100 brute force, implementation', 'Rating': '1100'}, {'#': '2036B', 'Name': 'Startup greedy, sortings', 'Rating': '800'}, {'#': '2036A', 'Name': 'Quintomania implementation', 'Rating': '800'}, {'#': '2035H', 'Name': 'Peak Productivity Forces constructive algorithms', 'Rating': '3500'}, {'#': '2035G2', 'Name': 'Go Learn! (Hard Version) divide and conquer, dp', 'Rating': '3500'}, {'#': '2035G1', 'Name': 'Go Learn! (Easy Version) dp, trees', 'Rating': '3300'}, {'#': '2035F', 'Name': 'Tree Operations binary search, brute force, dfs and similar, dp, trees', 'Rating': '2500'}, {'#': '2035E', 'Name': 'Monster binary search, brute force, constructive algorithms, greedy, implementation, math, ternary search', 'Rating': '2300'}, {'#': '2035D', 'Name': 'Yet Another Real Number Problem binary search, data structures, divide and conquer, greedy, implementation, math', 'Rating': '1800'}, {'#': '2035C', 'Name': 'Alya and Permutation bitmasks, constructive algorithms, math', 'Rating': '1400'}, {'#': '2035B', 'Name': 'Everyone Loves Tres constructive algorithms, greedy, math, number theory', 'Rating': '900'}, {'#': '2035A', 'Name': 'Sliding implementation, math', 'Rating': '800'}, {'#': '2034H', 'Name': 'Rayan vs. Rayaneh brute force, dfs and similar, dp, number theory', 'Rating': '3300'}, {'#': '2034G2', 'Name': \"Simurgh's Watch (Hard Version) greedy, implementation\", 'Rating': '3500'}, {'#': '2034G1', 'Name': \"Simurgh's Watch (Easy Version) constructive algorithms, greedy, implementation, sortings\", 'Rating': '3500'}, {'#': '2034F2', 'Name': \"Khayyam's Royal Decree (Hard Version) combinatorics, dp, math, sortings\", 'Rating': '2800'}, {'#': '2034F1', 'Name': \"Khayyam's Royal Decree (Easy Version) combinatorics, dp, math, sortings\", 'Rating': '2500'}, {'#': '2034E', 'Name': 'Permutations Harmony combinatorics, constructive algorithms, greedy, hashing, math', 'Rating': '2200'}, {'#': '2034D', 'Name': \"Darius' Wisdom constructive algorithms, greedy, implementation, sortings\", 'Rating': '1600'}, {'#': '2034C', 'Name': \"Trapped in the Witch's Labyrinth constructive algorithms, dfs and similar, graphs, implementation\", 'Rating': '1400'}, {'#': '2034B', 'Name': \"Rakhsh's Revival data structures, greedy, implementation, two pointers\", 'Rating': '1000'}, {'#': '2034A', 'Name': \"King Keykhosrow's Mystery brute force, chinese remainder theorem, math, number theory\", 'Rating': '800'}, {'#': '2033G', 'Name': 'Sakurako and Chefir data structures, dfs and similar, dp, greedy, trees', 'Rating': '2200'}, {'#': '2033F', 'Name': \"Kosuke's Sloth brute force, math, number theory\", 'Rating': '1800'}, {'#': '2033E', 'Name': 'Sakurako, Kosuke, and the Permutation brute force, data structures, dfs and similar, dsu, graphs, greedy, math', 'Rating': '1400'}, {'#': '2033D', 'Name': \"Kousuke's Assignment data structures, dp, dsu, greedy, math\", 'Rating': '1300'}, {'#': '2033C', 'Name': \"Sakurako's Field Trip dp, greedy, two pointers\", 'Rating': '1400'}, {'#': '2033B', 'Name': 'Sakurako and Water brute force, constructive algorithms, greedy', 'Rating': '900'}, {'#': '2033A', 'Name': 'Sakurako and Kosuke constructive algorithms, implementation, math', 'Rating': '800'}, {'#': '2032F', 'Name': 'Peanuts combinatorics, dp, games, math', 'Rating': '2700'}, {'#': '2032E', 'Name': 'Balanced constructive algorithms, data structures, greedy, implementation, math', 'Rating': '2400'}, {'#': '2032D', 'Name': 'Genokraken constructive algorithms, data structures, graphs, greedy, implementation, interactive, trees, two pointers', 'Rating': '1800'}, {'#': '2032C', 'Name': 'Trinity binary search, math, sortings, two pointers', 'Rating': '1400'}, {'#': '2032B', 'Name': 'Medians constructive algorithms, greedy, implementation, math', 'Rating': '1100'}, {'#': '2032A', 'Name': 'Circuit greedy, implementation, math, number theory', 'Rating': '800'}, {'#': '2031F', 'Name': 'Penchick and Even Medians binary search, constructive algorithms, interactive, probabilities', 'Rating': '2800'}, {'#': '2031E', 'Name': \"Penchick and Chloe's Trees data structures, dfs and similar, dp, greedy, implementation, math, sortings, trees\", 'Rating': '2100'}, {'#': '2031D', 'Name': 'Penchick and Desert Rabbit binary search, data structures, dfs and similar, dp, dsu, greedy, implementation, two pointers', 'Rating': '1700'}, {'#': '2031C', 'Name': 'Penchick and BBQ Buns constructive algorithms, math, number theory', 'Rating': '1300'}, {'#': '2031B', 'Name': 'Penchick and Satay Sticks brute force, greedy, sortings', 'Rating': '900'}, {'#': '2031A', 'Name': 'Penchick and Modern Monument constructive algorithms, dp, greedy, math', 'Rating': '800'}, {'#': '2030G2', 'Name': 'The Destruction of the Universe (Hard Version) combinatorics, math', 'Rating': '3100'}, {'#': '2030G1', 'Name': 'The Destruction of the Universe (Easy Version) combinatorics, greedy, math', 'Rating': '2900'}, {'#': '2030F', 'Name': 'Orangutan Approved Subarrays binary search, data structures, dp, greedy, implementation, two pointers', 'Rating': '2400'}, {'#': '2030E', 'Name': 'MEXimize the Score combinatorics, data structures, dp, greedy, implementation, math', 'Rating': '2200'}, {'#': '2030D', 'Name': \"QED's Favorite Permutation data structures, implementation, sortings\", 'Rating': '1700'}, {'#': '2030C', 'Name': 'A TRUE Battle brute force, games, greedy', 'Rating': '1100'}, {'#': '2030B', 'Name': 'Minimise Oneness combinatorics, constructive algorithms, games, math', 'Rating': '800'}, {'#': '2030A', 'Name': 'A Gift From Orangutan constructive algorithms, greedy, math, sortings', 'Rating': '800'}, {'#': '2029I', 'Name': 'Variance Challenge flows, graphs, greedy', 'Rating': '3400'}, {'#': '2029H', 'Name': 'Message Spread bitmasks, brute force, combinatorics, dp', 'Rating': '3500'}, {'#': '2029G', 'Name': 'Balanced Problem data structures, dp', 'Rating': '3000'}, {'#': '2029F', 'Name': 'Palindrome Everywhere constructive algorithms, graphs, greedy', 'Rating': '2500'}, {'#': '2029E', 'Name': 'Common Generator brute force, constructive algorithms, math, number theory', 'Rating': '2100'}, {'#': '2029D', 'Name': 'Cool Graph constructive algorithms, data structures, dfs and similar, dsu, graphs, greedy, trees', 'Rating': '1900'}, {'#': '2029C', 'Name': 'New Rating binary search, data structures, dp, greedy', 'Rating': '1700'}, {'#': '2029B', 'Name': 'Replacement constructive algorithms, games, strings', 'Rating': '1100'}, {'#': '2029A', 'Name': 'Set greedy, math', 'Rating': '800'}, {'#': '2028F', 'Name': \"Alice's Adventures in Addition bitmasks, brute force, dp, implementation\", 'Rating': '2700'}, {'#': '2028E', 'Name': \"Alice's Adventures in the Rabbit Hole combinatorics, dfs and similar, dp, games, greedy, math, probabilities, trees\", 'Rating': '2300'}, {'#': '2028D', 'Name': \"Alice's Adventures in Cards constructive algorithms, data structures, dp, graphs, greedy, implementation, ternary search\", 'Rating': '2000'}, {'#': '2028C', 'Name': \"Alice's Adventures in Cutting Cake binary search, dp, greedy, two pointers\", 'Rating': '1600'}, {'#': '2028B', 'Name': \"Alice's Adventures in Permuting binary search, implementation, math\", 'Rating': '1400'}, {'#': '2028A', 'Name': \"Alice's Adventures in ''Chess'' brute force, implementation, math\", 'Rating': '900'}, {'#': '2027E2', 'Name': 'Bit Game (Hard Version) bitmasks, dp, math', 'Rating': '3100'}, {'#': '2027E1', 'Name': 'Bit Game (Easy Version) bitmasks, brute force, games, math', 'Rating': '2800'}, {'#': '2027D2', 'Name': 'The Endspeaker (Hard Version) binary search, data structures, dp, greedy, implementation, two pointers', 'Rating': '2200'}, {'#': '2027D1', 'Name': 'The Endspeaker (Easy Version) binary search, dp, graphs, greedy, implementation, two pointers', 'Rating': '1700'}, {'#': '2027C', 'Name': 'Add Zeros brute force, data structures, dfs and similar, dp, graphs, greedy', 'Rating': '1500'}, {'#': '2027B', 'Name': 'Stalin Sort brute force, greedy', 'Rating': '1100'}, {'#': '2027A', 'Name': 'Rectangle Arrangement geometry, implementation, math', 'Rating': '800'}, {'#': '2026F', 'Name': 'Bermart Ice Cream data structures, dfs and similar, divide and conquer, dp, implementation, trees', 'Rating': '2700'}, {'#': '2026E', 'Name': 'Best Subsequence bitmasks, dfs and similar, flows, graph matchings, graphs', 'Rating': '2500'}, {'#': '2026D', 'Name': 'Sums of Segments binary search, data structures, dp, implementation, math', 'Rating': '1900'}, {'#': '2026C', 'Name': 'Action Figures binary search, brute force, constructive algorithms, data structures, greedy, implementation', 'Rating': '1500'}, {'#': '2026B', 'Name': 'Black Cells binary search, brute force, constructive algorithms, greedy', 'Rating': '1300'}, {'#': '2026A', 'Name': 'Perpendicular Segments constructive algorithms, geometry, greedy, math', 'Rating': '900'}, {'#': '2025G', 'Name': 'Variable Damage data structures, flows', 'Rating': '3000'}, {'#': '2025F', 'Name': 'Choose Your Queries constructive algorithms, dfs and similar, dp, graphs, greedy, trees', 'Rating': '2700'}, {'#': '2025E', 'Name': 'Card Game combinatorics, dp, fft, greedy, math', 'Rating': '2200'}, {'#': '2025D', 'Name': 'Attribute Checks brute force, data structures, dp, implementation, math, two pointers', 'Rating': '1800'}, {'#': '2025C', 'Name': 'New Game binary search, brute force, greedy, implementation, sortings, two pointers', 'Rating': '1300'}, {'#': '2025B', 'Name': 'Binomial Coefficients, Kind Of combinatorics, dp, math', 'Rating': '1100'}, {'#': '2025A', 'Name': 'Two Screens binary search, greedy, strings, two pointers', 'Rating': '800'}, {'#': '2024B', 'Name': 'Buying Lemonade binary search, constructive algorithms, sortings', 'Rating': '1100'}, {'#': '2024A', 'Name': 'Profitable Interest Rate greedy, math', 'Rating': '800'}, {'#': '2023F', 'Name': 'Hills and Pits data structures, greedy, math, matrices', 'Rating': '3500'}, {'#': '2023E', 'Name': 'Tree of Life dp, greedy, trees', 'Rating': '3300'}, {'#': '2023D', 'Name': 'Many Games brute force, dp, greedy, math, probabilities', 'Rating': '2900'}, {'#': '2023C', 'Name': 'C+K+S constructive algorithms, dfs and similar, graphs, greedy, hashing, implementation, strings', 'Rating': '2400'}, {'#': '2023B', 'Name': 'Skipping binary search, dp, graphs, shortest paths', 'Rating': '1700'}, {'#': '2023A', 'Name': 'Concatenation of Arrays constructive algorithms, greedy, math, sortings', 'Rating': '1300'}, {'#': '2022E2', 'Name': 'Billetes MX (Hard Version) binary search, combinatorics, data structures, dsu, graphs', 'Rating': '2600'}, {'#': '2022E1', 'Name': 'Billetes MX (Easy Version) 2-sat, binary search, combinatorics, constructive algorithms, dfs and similar, dsu, graphs', 'Rating': '2500'}, {'#': '2022D2', 'Name': 'Asesino (Hard Version) constructive algorithms, dp, interactive', 'Rating': '2700'}, {'#': '2022D1', 'Name': 'Asesino (Easy Version) binary search, brute force, constructive algorithms, implementation, interactive', 'Rating': '1900'}, {'#': '2022C', 'Name': 'Gerrymandering dp, implementation', 'Rating': '1800'}, {'#': '2022B', 'Name': 'Kar Salesman binary search, greedy, math', 'Rating': '1300'}, {'#': '2022A', 'Name': 'Bus to Pénjamo constructive algorithms, greedy, implementation, math', 'Rating': '800'}, {'#': '2021E3', 'Name': 'Digital Village (Extreme Version) data structures, dfs and similar, dp, dsu, graphs, greedy, math, trees', 'Rating': '2800'}, {'#': '2021E2', 'Name': 'Digital Village (Hard Version) data structures, dp, dsu, graphs, math, trees', 'Rating': '2500'}, {'#': '2021E1', 'Name': 'Digital Village (Easy Version) brute force, data structures, dfs and similar, dp, dsu, fft, graphs, greedy, implementation, math, trees', 'Rating': '2300'}, {'#': '2021D', 'Name': 'Boss, Thirsty dp, greedy, implementation', 'Rating': '2500'}, {'#': '2021C2', 'Name': 'Adjust The Presentation (Hard Version) constructive algorithms, data structures, greedy, implementation, sortings', 'Rating': '1900'}, {'#': '2021C1', 'Name': 'Adjust The Presentation (Easy Version) constructive algorithms, greedy', 'Rating': '1300'}, {'#': '2021B', 'Name': 'Maximize Mex brute force, greedy, math, number theory', 'Rating': '1200'}, {'#': '2021A', 'Name': 'Meaning Mean data structures, greedy, math, sortings', 'Rating': '800'}, {'#': '2020F', 'Name': 'Count Leaves dp, math, number theory', 'Rating': '2900'}, {'#': '2020E', 'Name': 'Expected Power bitmasks, dp, math, probabilities', 'Rating': '2000'}, {'#': '2020D', 'Name': 'Connect the Dots brute force, dp, dsu, graphs, math, trees', 'Rating': '1800'}, {'#': '2020C', 'Name': 'Bitwise Balancing bitmasks, hashing, implementation, math, schedules, ternary search', 'Rating': '1400'}, {'#': '2020B', 'Name': 'Brightness Begins binary search, math', 'Rating': '1200'}, {'#': '2020A', 'Name': 'Find Minimum Operations bitmasks, brute force, greedy, math, number theory', 'Rating': '800'}, {'#': '2019B', 'Name': 'All Pairs Segments implementation, math', 'Rating': '1200'}, {'#': '2019A', 'Name': 'Max Plus Size brute force, dp, greedy', 'Rating': '800'}, {'#': '2018F3', 'Name': 'Speedbreaker Counting (Hard Version) dp, greedy, math', 'Rating': '3100'}, {'#': '2018F2', 'Name': 'Speedbreaker Counting (Medium Version) dp, greedy, math', 'Rating': '3000'}, {'#': '2018F1', 'Name': 'Speedbreaker Counting (Easy Version) combinatorics, dp, greedy, math', 'Rating': '2900'}, {'#': '2018E2', 'Name': 'Complex Segments (Hard Version) binary search, data structures, divide and conquer, dsu, greedy, math, sortings', 'Rating': '3400'}, {'#': '2018E1', 'Name': 'Complex Segments (Easy Version) binary search, data structures, divide and conquer, dsu, greedy, math, sortings', 'Rating': '3300'}, {'#': '2018D', 'Name': 'Max Plus Min Plus Size data structures, dp, dsu, greedy, implementation, matrices, sortings', 'Rating': '2200'}, {'#': '2018C', 'Name': 'Tree Pruning brute force, dfs and similar, greedy, sortings, trees', 'Rating': '1700'}, {'#': '2018B', 'Name': 'Speedbreaker binary search, data structures, dp, greedy, implementation, two pointers', 'Rating': '1900'}, {'#': '2018A', 'Name': 'Cards Partition 2-sat, brute force, greedy, implementation, math', 'Rating': '1600'}, {'#': '2014H', 'Name': 'Robin Hood Archery data structures, divide and conquer, greedy, hashing', 'Rating': '1900'}, {'#': '2014G', 'Name': 'Milky Days brute force, data structures, greedy, implementation', 'Rating': '2200'}, {'#': '2014F', 'Name': \"Sheriff's Defense dfs and similar, dp, greedy, trees\", 'Rating': '2000'}, {'#': '2014E', 'Name': 'Rendez-vous de Marian et Robin dfs and similar, graphs, shortest paths', 'Rating': '1800'}, {'#': '2014D', 'Name': 'Robert Hood and Mrs Hood brute force, data structures, greedy, sortings', 'Rating': '1400'}, {'#': '2014C', 'Name': 'Robin Hood in Town binary search, greedy, math', 'Rating': '1100'}, {'#': '2014B', 'Name': 'Robin Hood and the Major Oak math', 'Rating': '800'}, {'#': '2014A', 'Name': 'Robin Helps greedy, implementation', 'Rating': '800'}, {'#': '2013F2', 'Name': 'Game in Tree (Hard Version) binary search, data structures, trees', 'Rating': '3500'}, {'#': '2013F1', 'Name': 'Game in Tree (Easy Version) binary search, brute force, data structures, dp, games, greedy, implementation, trees', 'Rating': '2700'}, {'#': '2013E', 'Name': 'Prefix GCD brute force, dp, greedy, math, number theory', 'Rating': '2200'}, {'#': '2013D', 'Name': 'Minimize the Difference binary search, greedy', 'Rating': '1900'}, {'#': '2013C', 'Name': 'Password Cracking constructive algorithms, interactive, strings', 'Rating': '1400'}, {'#': '2013B', 'Name': 'Battle for Survive constructive algorithms, greedy, math', 'Rating': '900'}, {'#': '2013A', 'Name': \"Zhan's Blender constructive algorithms, math\", 'Rating': '800'}, {'#': '2011I', 'Name': 'Stack and Queue *special problem, data structures, divide and conquer', 'Rating': ''}, {'#': '2011H', 'Name': 'Strange Matrix *special problem, graphs, greedy', 'Rating': ''}, {'#': '2011G', 'Name': 'Removal of a Permutation *special problem', 'Rating': ''}, {'#': '2011F', 'Name': 'Good Subarray *special problem, data structures, greedy', 'Rating': ''}, {'#': '2011E', 'Name': 'Rock-Paper-Scissors Bot *special problem, greedy, strings', 'Rating': ''}, {'#': '2011D', 'Name': 'Among Wolves *special problem', 'Rating': ''}, {'#': '2011C', 'Name': 'Split the Expression *special problem', 'Rating': ''}, {'#': '2011B', 'Name': 'Shuffle *special problem', 'Rating': ''}, {'#': '2011A', 'Name': 'Problem Solving *special problem', 'Rating': ''}, {'#': '2010C2', 'Name': 'Message Transmission Error (hard version) hashing, string suffix structures, strings, two pointers', 'Rating': '1700'}, {'#': '2010C1', 'Name': 'Message Transmission Error (easy version) brute force, strings', 'Rating': '1400'}, {'#': '2010B', 'Name': 'Three Brothers brute force, implementation, math', 'Rating': '800'}, {'#': '2010A', 'Name': 'Alternating Sum of Numbers brute force, implementation, math', 'Rating': '800'}, {'#': '2009G3', 'Name': \"Yunli's Subarray Queries (extreme version) data structures, dp, implementation\", 'Rating': '2700'}, {'#': '2009G2', 'Name': \"Yunli's Subarray Queries (hard version) binary search, data structures, dp\", 'Rating': '2200'}, {'#': '2009G1', 'Name': \"Yunli's Subarray Queries (easy version) binary search, data structures, two pointers\", 'Rating': '1900'}, {'#': '2009F', 'Name': \"Firefly's Queries bitmasks, data structures, flows, math\", 'Rating': '1700'}, {'#': '2009E', 'Name': \"Klee's SUPER DUPER LARGE Array!!! binary search, math, ternary search\", 'Rating': '1400'}, {'#': '2009D', 'Name': 'Satyam and Counting geometry, math', 'Rating': '1400'}, {'#': '2009C', 'Name': 'The Legend of Freya the Frog implementation, math', 'Rating': '1100'}, {'#': '2009B', 'Name': 'osu!mania brute force, implementation', 'Rating': '800'}, {'#': '2009A', 'Name': 'Minimize! brute force, math', 'Rating': '800'}, {'#': '2008H', 'Name': \"Sakurako's Test binary search, brute force, greedy, math, number theory\", 'Rating': '2100'}, {'#': '2008G', 'Name': \"Sakurako's Task binary search, greedy, math, number theory\", 'Rating': '1800'}, {'#': '2008F', 'Name': \"Sakurako's Box combinatorics, math, number theory\", 'Rating': '1400'}, {'#': '2008E', 'Name': 'Alternating String brute force, data structures, dp, greedy, implementation, strings', 'Rating': '1500'}, {'#': '2008D', 'Name': \"Sakurako's Hobby dp, dsu, graphs, math\", 'Rating': '1100'}, {'#': '2008C', 'Name': 'Longest Good Array binary search, brute force, math', 'Rating': '800'}, {'#': '2008B', 'Name': 'Square or Not brute force, math, strings', 'Rating': '800'}, {'#': '2008A', 'Name': \"Sakurako's Exam brute force, constructive algorithms, greedy, math\", 'Rating': '800'}, {'#': '2007C', 'Name': 'Dora and C++ math, number theory', 'Rating': '1500'}, {'#': '2007B', 'Name': 'Index and Maximum Value data structures, greedy', 'Rating': '900'}, {'#': '2007A', 'Name': \"Dora's Set greedy, math, number theory\", 'Rating': '800'}, {'#': '2006F', 'Name': \"Dora's Paint brute force, combinatorics, constructive algorithms, graphs, implementation\", 'Rating': '3500'}, {'#': '2006E', 'Name': \"Iris's Full Binary Tree brute force, data structures, dfs and similar, trees\", 'Rating': '3100'}, {'#': '2006D', 'Name': 'Iris and Adjacent Products data structures, greedy, implementation, math', 'Rating': '2600'}, {'#': '2006C', 'Name': 'Eri and Expanded Sets data structures, divide and conquer, math, number theory, two pointers', 'Rating': '2300'}, {'#': '2006B', 'Name': 'Iris and the Tree brute force, data structures, dfs and similar, dsu, math, trees', 'Rating': '1800'}, {'#': '2006A', 'Name': 'Iris and Game on the Tree constructive algorithms, dfs and similar, games, graphs, greedy, trees', 'Rating': '1700'}, {'#': '2005E2', 'Name': 'Subtangle Game (Hard Version) data structures, dp, games, greedy, implementation', 'Rating': '2500'}, {'#': '2005E1', 'Name': 'Subtangle Game (Easy Version) dp, games, greedy, implementation', 'Rating': '2100'}, {'#': '2005D', 'Name': 'Alter the GCD binary search, brute force, data structures, divide and conquer, implementation, number theory', 'Rating': '2400'}, {'#': '2005C', 'Name': 'Lazy Narek dp, implementation, strings', 'Rating': '1800'}, {'#': '2005B2', 'Name': 'The Strict Teacher (Hard Version) binary search, greedy, math, sortings', 'Rating': '1200'}, {'#': '2005B1', 'Name': 'The Strict Teacher (Easy Version) greedy, math, sortings', 'Rating': '1000'}, {'#': '2005A', 'Name': 'Simple Palindrome combinatorics, constructive algorithms, greedy, math', 'Rating': '900'}, {'#': '2004G', 'Name': 'Substring Compression data structures, dp, matrices', 'Rating': '3200'}, {'#': '2004F', 'Name': 'Make a Palindrome binary search, brute force, data structures, greedy, math', 'Rating': '2600'}, {'#': '2004E', 'Name': 'Not a Nim Problem brute force, games, math, number theory', 'Rating': '2100'}, {'#': '2004D', 'Name': 'Colored Portals binary search, brute force, data structures, graphs, greedy, implementation, shortest paths', 'Rating': '1600'}, {'#': '2004C', 'Name': 'Splitting Items games, greedy, sortings', 'Rating': '1100'}, {'#': '2004B', 'Name': 'Game with Doors brute force, greedy', 'Rating': '1000'}, {'#': '2004A', 'Name': 'Closest Point implementation, math', 'Rating': '800'}, {'#': '2003F', 'Name': 'Turtle and Three Sequences brute force, data structures, dp, greedy, math, probabilities, two pointers', 'Rating': '2800'}, {'#': '2003E2', 'Name': 'Turtle and Inversions (Hard Version) brute force, data structures, divide and conquer, dp, greedy, math, two pointers', 'Rating': '2700'}, {'#': '2003E1', 'Name': 'Turtle and Inversions (Easy Version) brute force, divide and conquer, dp, greedy, math', 'Rating': '2600'}, {'#': '2003D2', 'Name': 'Turtle and a MEX Problem (Hard Version) dfs and similar, dp, graphs, greedy, implementation, math', 'Rating': '2100'}, {'#': '2003D1', 'Name': 'Turtle and a MEX Problem (Easy Version) greedy, math', 'Rating': '1500'}, {'#': '2003C', 'Name': 'Turtle and Good Pairs constructive algorithms, greedy, sortings, strings', 'Rating': '1200'}, {'#': '2003B', 'Name': 'Turtle and Piggy Are Playing a Game 2 games, greedy, sortings', 'Rating': '800'}, {'#': '2003A', 'Name': 'Turtle and Good Strings greedy, strings', 'Rating': '800'}, {'#': '2002H', 'Name': 'Counting 101 greedy', 'Rating': '3500'}, {'#': '2002G', 'Name': 'Lattice Optimizing bitmasks, brute force, hashing, meet-in-the-middle', 'Rating': '3400'}, {'#': '2002F2', 'Name': 'Court Blue (Hard Version) brute force, dp, math, number theory', 'Rating': '2800'}, {'#': '2002F1', 'Name': 'Court Blue (Easy Version) brute force, dfs and similar, dp, math, number theory', 'Rating': '2600'}, {'#': '2002E', 'Name': 'Cosmic Rays brute force, data structures, dp', 'Rating': '2300'}, {'#': '2002D2', 'Name': 'DFS Checker (Hard Version) binary search, data structures, dfs and similar, graphs, hashing, trees', 'Rating': '2300'}, {'#': '2002D1', 'Name': 'DFS Checker (Easy Version) brute force, data structures, dfs and similar, graphs, hashing, trees', 'Rating': '1900'}, {'#': '2002C', 'Name': 'Black Circles brute force, geometry, greedy, math', 'Rating': '1200'}, {'#': '2002B', 'Name': 'Removals Game constructive algorithms, games', 'Rating': '1000'}, {'#': '2002A', 'Name': 'Distanced Coloring constructive algorithms, implementation, math', 'Rating': '800'}, {'#': '2001E2', 'Name': 'Deterministic Heap (Hard Version) combinatorics, dp, trees', 'Rating': '2900'}, {'#': '2001E1', 'Name': 'Deterministic Heap (Easy Version) combinatorics, dp, math, trees', 'Rating': '2400'}, {'#': '2001D', 'Name': 'Longest Max Min Subsequence brute force, constructive algorithms, data structures, greedy, implementation', 'Rating': '1900'}, {'#': '2001C', 'Name': 'Guess The Tree binary search, brute force, dfs and similar, divide and conquer, dsu, greedy, interactive, trees', 'Rating': '1500'}, {'#': '2001B', 'Name': 'Generate Permutation constructive algorithms', 'Rating': '800'}, {'#': '2001A', 'Name': 'Make All Equal greedy, implementation', 'Rating': '800'}, {'#': '2000H', 'Name': 'Ksyusha and the Loaded Set binary search, brute force, data structures, implementation', 'Rating': '2200'}, {'#': '2000G', 'Name': 'Call During the Journey binary search, brute force, graphs, greedy, shortest paths', 'Rating': '2100'}, {'#': '2000F', 'Name': 'Color Rows and Columns dp, greedy, implementation, math', 'Rating': '1900'}, {'#': '2000E', 'Name': 'Photoshoot for Gorillas combinatorics, data structures, greedy, math', 'Rating': '1400'}, {'#': '2000D', 'Name': 'Right Left Wrong greedy, implementation, two pointers', 'Rating': '1200'}, {'#': '2000C', 'Name': 'Numeric String Template data structures, strings', 'Rating': '1000'}, {'#': '2000B', 'Name': 'Seating in a Bus two pointers', 'Rating': '800'}, {'#': '2000A', 'Name': 'Primary Task implementation, math, strings', 'Rating': '800'}, {'#': '1999G2', 'Name': 'Ruler (hard version) binary search, interactive, ternary search', 'Rating': '1700'}, {'#': '1999G1', 'Name': 'Ruler (easy version) binary search, interactive', 'Rating': '1500'}, {'#': '1999F', 'Name': 'Expected Median combinatorics, math', 'Rating': '1500'}, {'#': '1999E', 'Name': 'Triple Operations dp, implementation, math', 'Rating': '1300'}, {'#': '1999D', 'Name': \"Slavic's Exam greedy, implementation, strings\", 'Rating': '1100'}, {'#': '1999C', 'Name': 'Showering greedy, implementation', 'Rating': '800'}, {'#': '1999B', 'Name': 'Card Game brute force, constructive algorithms, implementation', 'Rating': '1000'}, {'#': '1999A', 'Name': 'A+B Again? implementation, math', 'Rating': '800'}, {'#': '1998E2', 'Name': 'Eliminating Balls With Merging (Hard Version) binary search, brute force, data structures, divide and conquer, greedy, implementation', 'Rating': '2500'}, {'#': '1998E1', 'Name': 'Eliminating Balls With Merging (Easy Version) binary search, brute force, data structures, divide and conquer, greedy', 'Rating': '2200'}, {'#': '1998D', 'Name': 'Determine Winning Islands in Race data structures, dp, graphs, greedy, shortest paths', 'Rating': '2100'}, {'#': '1998C', 'Name': 'Perform Operations to Maximize Score binary search, brute force, constructive algorithms, greedy, implementation', 'Rating': '1900'}, {'#': '1998B', 'Name': 'Minimize Equal Sum Subarrays constructive algorithms, math, number theory', 'Rating': '1000'}, {'#': '1998A', 'Name': 'Find K Distinct Points with Fixed Center constructive algorithms, implementation, math', 'Rating': '800'}, {'#': '1997F', 'Name': 'Chips on a Line brute force, combinatorics, dp, greedy, math', 'Rating': '2700'}, {'#': '1997E', 'Name': 'Level Up binary search, brute force, data structures, divide and conquer, implementation', 'Rating': '2200'}, {'#': '1997D', 'Name': 'Maximize the Root binary search, dfs and similar, dp, greedy, trees', 'Rating': '1500'}, {'#': '1997C', 'Name': 'Even Positions constructive algorithms, data structures, greedy', 'Rating': '1100'}, {'#': '1997B', 'Name': 'Make Three Regions constructive algorithms, two pointers', 'Rating': '1100'}, {'#': '1997A', 'Name': 'Strong Password brute force, implementation, strings', 'Rating': '800'}, {'#': '1996G', 'Name': 'Penacony brute force, data structures, graphs, greedy, hashing', 'Rating': '2200'}, {'#': '1996F', 'Name': 'Bomb binary search, greedy, math', 'Rating': '1900'}, {'#': '1996E', 'Name': 'Decode combinatorics, data structures, implementation, math', 'Rating': '1600'}, {'#': '1996D', 'Name': 'Fun binary search, brute force, combinatorics, math, number theory', 'Rating': '1500'}, {'#': '1996C', 'Name': 'Sort dp, greedy, sortings, strings', 'Rating': '1200'}, {'#': '1996B', 'Name': 'Scale greedy, implementation', 'Rating': '800'}, {'#': '1996A', 'Name': 'Legs binary search, math, ternary search', 'Rating': '800'}, {'#': '1995E2', 'Name': 'Let Me Teach You a Lesson (Hard Version) data structures, dp, matrices, two pointers', 'Rating': '2900'}, {'#': '1995E1', 'Name': 'Let Me Teach You a Lesson (Easy Version) 2-sat, data structures, dp, matrices, two pointers', 'Rating': '2700'}, {'#': '1995D', 'Name': 'Cases bitmasks, brute force, dp, strings', 'Rating': '2300'}, {'#': '1995C', 'Name': 'Squaring brute force, constructive algorithms, greedy, implementation, math, number theory', 'Rating': '1800'}, {'#': '1995B2', 'Name': 'Bouquet (Hard Version) binary search, data structures, greedy, math, sortings, two pointers', 'Rating': '1700'}, {'#': '1995B1', 'Name': 'Bouquet (Easy Version) binary search, brute force, greedy, sortings, two pointers', 'Rating': '1100'}, {'#': '1995A', 'Name': 'Diagonals brute force, greedy, implementation, math', 'Rating': '800'}, {'#': '1994H', 'Name': 'Fortnite combinatorics, constructive algorithms, games, greedy, hashing, interactive, math, number theory, strings', 'Rating': '3500'}, {'#': '1994G', 'Name': 'Minecraft bitmasks, brute force, dp, graphs, math', 'Rating': '2600'}, {'#': '1994F', 'Name': 'Stardew Valley constructive algorithms, dfs and similar, graphs, trees', 'Rating': '2500'}, {'#': '1994E', 'Name': 'Wooden Game bitmasks, greedy, math, trees', 'Rating': '2000'}, {'#': '1994D', 'Name': 'Funny Game constructive algorithms, dsu, graphs, greedy, math, number theory, trees', 'Rating': '1900'}, {'#': '1994C', 'Name': 'Hungry Games binary search, dp, two pointers', 'Rating': '1600'}, {'#': '1994B', 'Name': 'Fun Game bitmasks, constructive algorithms, greedy, math', 'Rating': '1100'}, {'#': '1994A', 'Name': 'Diverse Game constructive algorithms, greedy, implementation', 'Rating': '800'}, {'#': '1993F2', 'Name': 'Dyn-scripted Robot (Hard Version) chinese remainder theorem, math, number theory', 'Rating': '2800'}, {'#': '1993F1', 'Name': 'Dyn-scripted Robot (Easy Version) brute force, chinese remainder theorem, constructive algorithms, math, number theory', 'Rating': '2400'}, {'#': '1993E', 'Name': 'Xor-Grid Problem bitmasks, constructive algorithms, dp, implementation', 'Rating': '2700'}, {'#': '1993D', 'Name': 'Med-imize binary search, dp, greedy', 'Rating': '2200'}, {'#': '1993C', 'Name': 'Light Switches implementation, math', 'Rating': '1400'}, {'#': '1993B', 'Name': 'Parity and Sum constructive algorithms, greedy', 'Rating': '1100'}, {'#': '1993A', 'Name': 'Question Marks greedy, implementation', 'Rating': '800'}, {'#': '1992G', 'Name': 'Ultra-Meow combinatorics, dp, math', 'Rating': '2000'}, {'#': '1992F', 'Name': 'Valuable Cards brute force, dp, greedy, number theory, two pointers', 'Rating': '1900'}, {'#': '1992E', 'Name': \"Novice's Mistake brute force, constructive algorithms, implementation, math, strings\", 'Rating': '1700'}, {'#': '1992D', 'Name': 'Test of Love dp, greedy, implementation', 'Rating': '1200'}, {'#': '1992C', 'Name': 'Gorilla and Permutation constructive algorithms, math', 'Rating': '900'}, {'#': '1992B', 'Name': 'Angry Monk greedy, math, sortings', 'Rating': '800'}, {'#': '1992A', 'Name': 'Only Pluses brute force, constructive algorithms, greedy, math, sortings', 'Rating': '800'}, {'#': '1991I', 'Name': 'Grid Game constructive algorithms, games, graph matchings, greedy, interactive', 'Rating': '3500'}, {'#': '1991H', 'Name': 'Prime Split Game bitmasks, dp, fft, games, math, number theory', 'Rating': '3300'}, {'#': '1991G', 'Name': 'Grid Reset constructive algorithms, greedy, implementation', 'Rating': '2700'}, {'#': '1991F', 'Name': 'Triangle Formation brute force, greedy, implementation, math, sortings', 'Rating': '2200'}, {'#': '1991E', 'Name': 'Coloring Game constructive algorithms, dfs and similar, games, graphs, greedy, interactive', 'Rating': '1900'}, {'#': '1991D', 'Name': 'Prime XOR Coloring bitmasks, constructive algorithms, graphs, greedy, math, number theory', 'Rating': '1900'}, {'#': '1991C', 'Name': 'Absolute Zero constructive algorithms, greedy, math', 'Rating': '1300'}, {'#': '1991B', 'Name': 'AND Reconstruction bitmasks, constructive algorithms, greedy', 'Rating': '1100'}, {'#': '1991A', 'Name': 'Maximize the Last Element greedy, implementation', 'Rating': '800'}, {'#': '1990F', 'Name': 'Polygonal Segments brute force, data structures, divide and conquer, dp, greedy, two pointers', 'Rating': '2800'}, {'#': '1990E2', 'Name': 'Catch the Mole(Hard Version) binary search, data structures, dfs and similar, divide and conquer, interactive, trees', 'Rating': '2600'}, {'#': '1990E1', 'Name': 'Catch the Mole(Easy Version) binary search, data structures, dfs and similar, interactive, trees', 'Rating': '2500'}, {'#': '1990D', 'Name': 'Grid Puzzle bitmasks, brute force, dp, greedy, implementation', 'Rating': '1800'}, {'#': '1990C', 'Name': 'Mad MAD Sum brute force, greedy, math', 'Rating': '1500'}, {'#': '1990B', 'Name': 'Array Craft constructive algorithms, greedy', 'Rating': '1200'}, {'#': '1990A', 'Name': 'Submission Bait brute force, games, greedy, sortings', 'Rating': '900'}, {'#': '1989F', 'Name': 'Simultaneous Coloring dfs and similar, divide and conquer, graphs', 'Rating': '3000'}, {'#': '1989E', 'Name': 'Distance to Different combinatorics, dp, math', 'Rating': '2300'}, {'#': '1989D', 'Name': 'Smithing Skill brute force, data structures, dp, greedy, math, sortings, two pointers', 'Rating': '1900'}]\n",
      "500\n"
     ]
    }
   ],
   "source": [
    "# soup = BeautifulSoup(webpage,\"lxml\")\n",
    "# problem_table = soup.find(\"table\",class_=\"problems\")\n",
    "Questions_list = []\n",
    "for i in range(1, l + 1):\n",
    "    formatted_url = URL.format(i=i)  # Format the URL with the page number\n",
    "    req = Request(\n",
    "        url=formatted_url, \n",
    "        headers={'User-Agent': 'Mozilla/5.0'}\n",
    "    )\n",
    "    webpage = urlopen(req).read()\n",
    "    soup = BeautifulSoup(webpage, \"lxml\")\n",
    "    problem_table = soup.find(\"table\", class_=\"problems\")\n",
    "    \n",
    "    if problem_table:\n",
    "        table_row = problem_table.find_all(\"tr\")\n",
    "        for tr in table_row[1:]:\n",
    "            td = tr.find_all(\"td\")\n",
    "            if len(td) >= 4:  # Make sure there are enough columns in the row\n",
    "                Problems = {\n",
    "                    \"#\": ' '.join(td[0].text.split()),\n",
    "                    \"Name\": ' '.join(td[1].text.split()),\n",
    "                    \"Rating\": ' '.join(td[3].text.split()),\n",
    "                }\n",
    "                Questions_list.append(Problems)\n",
    "    else:\n",
    "        print(f\"Problem table not found on page {i}!\")\n",
    "\n",
    "print(Questions_list)\n",
    "print(len(Questions_list))\n",
    "\n"
   ]
  },
  {
   "cell_type": "code",
   "execution_count": 6,
   "metadata": {},
   "outputs": [],
   "source": [
    "from urllib.request import Request, urlopen\n",
    "from bs4 import BeautifulSoup\n",
    "from IPython.display import display, Math"
   ]
  },
  {
   "cell_type": "code",
   "execution_count": 7,
   "metadata": {},
   "outputs": [
    {
     "name": "stdout",
     "output_type": "stream",
     "text": [
      "{'Problem_statement': \"The problem statement has recently been changed.\\nView the changes.\\n×\\nI2. Affectionate Arrays (Hard Version)\\ntime limit per test\\n3 seconds\\nmemory limit per test\\n512 megabytes\\ninput\\nstandard input\\noutput\\nstandard output\\nNote that this statement is different to the version used in the official round. The statement has been corrected to a solvable version. In the official round, all submissions to this problem have been removed.\\nThis is the hard version of the problem. The difference between the versions is that in this version, you need to compute the sum of value of different arrays. You can hack only if you solved all versions of this problem.\\nIris treasures an integer array $$$a_1, a_2, \\\\ldots, a_n$$$. She knows this array has an interesting property: the maximum absolute value of all elements is less than or equal to the sum of all elements, that is, $$$\\\\max(\\\\lvert a_i\\\\rvert) \\\\leq \\\\sum a_i$$$.\\nIris defines the\\nboredom\\nof an array as its maximum subarray$$$^{\\\\text{∗}}$$$ sum.\\nIris's birthday is coming, and Victor is going to send her another array $$$b_1, b_2, \\\\ldots, b_m$$$ as a gift. For some seemingly obvious reasons, he decides the array $$$b_1, b_2, \\\\ldots, b_m$$$ should have the following properties.\\n$$$a_1, a_2, \\\\ldots, a_n$$$ should be a subsequence$$$^{\\\\text{†}}$$$ of $$$b_1, b_2, \\\\ldots, b_m$$$.\\nThe two arrays have the same sum. That is, $$$\\\\sum\\\\limits_{i=1}^n a_i = \\\\sum\\\\limits_{i=1}^m b_i$$$.\\nThe\\nboredom\\nof $$$b_1, b_2, \\\\ldots, b_m$$$ is the smallest possible.\\nAmong the arrays with the smallest boredom, the length of the array $$$b$$$ (i.e., $$$m$$$) is the smallest possible. And in this case, Iris will understand his regard as soon as possible!\\nFor a possible array $$$b_1, b_2, \\\\ldots, b_m$$$ satisfying all the conditions above, Victor defines the value of the array as the\\nnumber of occurrences\\nof array $$$a$$$ as subsequences in array $$$b$$$. That is, he counts the number of array $$$c_1, c_2, \\\\ldots, c_{n}$$$ that $$$1\\\\le c_1< c_2< \\\\ldots< c_n\\\\le m$$$ and for all integer $$$i$$$ that $$$1\\\\le i\\\\le n$$$, $$$b_{c_{i}}=a_i$$$ is satisfied, and let this be the value of array $$$b$$$.\\nEven constrained as above, there are still too many possible gifts. So Victor asks you to\\ncalculate the sum of value of all possible arrays\\n$$$b_1, b_2, \\\\ldots, b_m$$$. Since the answer may be large, Victor only needs the number modulo $$$998\\\\,244\\\\,353$$$. He promises you: if you help him successfully, he will share a bit of Iris's birthday cake with you.\\n$$$^{\\\\text{∗}}$$$An array $$$c$$$ is a subarray of an array $$$d$$$ if $$$c$$$ can be obtained from $$$d$$$ by the deletion of several (possibly, zero or all) elements from the beginning and several (possibly, zero or all) elements from the end.\\n$$$^{\\\\text{†}}$$$A sequence $$$c$$$ is a subsequence of a sequence $$$d$$$ if $$$c$$$ can be obtained from $$$d$$$ by the deletion of several (possibly, zero or all) element from arbitrary positions.\\nInput\\nEach test contains multiple test cases. The first line of input contains an integer $$$t$$$ ($$$1 \\\\leq t \\\\leq 10^5$$$)\\xa0— the number of test cases. The description of test cases follows.\\nThe first line of each test case contains a single integer $$$n$$$ ($$$1 \\\\leq n \\\\leq 3\\\\cdot 10^6$$$)\\xa0— the length of the array $$$a_1, a_2, \\\\ldots, a_n$$$.\\nThe second line of each test case contains $$$n$$$ integers $$$a_1, a_2, \\\\ldots, a_n$$$ ($$$-10^9 \\\\leq a_i \\\\leq 10^9$$$)\\xa0— the initial array. It is guaranteed that $$$\\\\max(\\\\lvert a_i\\\\rvert) \\\\leq \\\\sum a_i$$$.\\nIt is guaranteed that the sum of $$$n$$$ over all test cases does not exceed $$$3\\\\cdot 10^6$$$.\\nOutput\\nFor each test case, output a single line containing an integer: the sum of values of valid arrays $$$b_1, b_2, \\\\ldots, b_m$$$, modulo $$$998\\\\,244\\\\,353$$$.\\nExample\\nInput\\n5\\n4\\n1 2 3 4\\n4\\n2 -3 2 2\\n4\\n1 -2 2 1\\n10\\n2 -7 6 3 -1 4 2 -5 8 -4\\n20\\n4 -2 4 3 -2 1 5 2 3 6 -5 -1 -4 -2 -3 5 -3 1 -4 1\\nOutput\\n1\\n2\\n2\\n20\\n1472\\nNote\\nIn the first test case, $$$a=[1, 2, 3, 4]$$$. The only possible array $$$b$$$ is $$$[1, 2, 3, 4]$$$, and its value is $$$1$$$.\\nIn the second test case, $$$a=[2, -3, 2, 2]$$$. The possible arrays $$$b$$$ are $$$[1, 2, -3, 2, -1, 2]$$$ and $$$[2, 1, -3, 2, -1, 2]$$$. Both arrays have value $$$1$$$.\\nIn the third test case, $$$a=[1, -2, 2, 1]$$$. The only possible array $$$b$$$ is $$$[1, 1, -2, 2, -1, 1]$$$. It has value $$$2$$$, because we can find arrays $$$c=[1,3,4,6]$$$ or $$$[2,3,4,6]$$$. That is, the array $$$a$$$ occurs twice in $$$b$$$, so the answer is $$$2$$$.\", 'Tutorial_link': '/blog/entry/136455', 'Announcement_link': '/blog/entry/137621', 'Metadata': {'Title': 'I2. Affectionate Arrays (Hard Version)', 'Time Limit': 'time limit per test3 seconds', 'Memory Limit': 'memory limit per test512 megabytes'}}\n",
      "['Hint 1\\nWhat if $$$w = 2$$$? Is it optimal to increase $$$\\\\sum\\\\limits_{i=0}^n [a_i \\\\neq a_{i+1}]$$$ (suppose $$$a_0 = a_{n+1} = 2$$$)?', \"Hint 2\\nIf $$$w \\\\geq 3$$$, what's the answer to the first question?\", 'Hint 3\\nIf $$$a_i = a_{i+1}$$$, after the operation we can obtain $$$a_{i-1} = a_i$$$ or $$$a_{i+1} = a_{i+2}$$$ (and possibly, both).', 'Hint 4\\nTry to think of the whole process reversedly. If $$$w \\\\geq 3$$$, $$$1 \\\\leq a_i \\\\leq w - 1$$$, can you solve the problem?', 'Hint 5\\nHow many extra operations are required for each $$$1 \\\\leq i \\\\leq n$$$ if $$$a_i = w$$$, in the above scheme you use for $$$a_i \\\\leq w - 1$$$?', 'Solution\\nRead the Hints.\\n$$$w = 2$$$\\nAfter any operation, $$$k = \\\\sum\\\\limits_{i=0}^n [a_i \\\\neq a_{i+1}]$$$ won\\'t decrease (suppose $$$a_0 = a_{n+1} = 2$$$). For a fixed $$$k$$$, the maximal $$$\\\\sum a_i = 2n - \\\\frac{1}{2}k$$$ and can be reached by each time turning a $$$[2, 1, 1]$$$ into $$$[2, 2, 1]$$$ (or symmetrically, $$$[1, 1, 2] \\\\rightarrow [1, 2, 2]$$$.\\n$$$w \\\\geq 3$$$\\nNo initial operations can be conducted, or $$$\\\\min(a_i) = w$$$\\nThis case is trivial.\\n$$$w \\\\geq 3$$$\\nSome initial operations can be conducted\\nWe claim that the answer to the first question is $$$nw - 1$$$. For the second question, let\\'s study some rather easier cases below.\\n$$$w \\\\geq 3$$$\\nSome initial operations can be conducted\\n$$$a_i \\\\neq w$$$\\nWe pretend that the final sequence is $$$[w, w, \\\\dots, w, (w-1), w, w, \\\\dots, w]$$$, then since $$$(a_i, a_{i+1})$$$ must be different after the operation, the last operation can only occur on $$$[w, (w-1)]$$$ (or $$$[(w-1), w]$$$). And since initially $$$a_i \\\\neq w$$$, each position must have been operated on at least once.\\nThis gives us states such as $$$[w, \\\\dots, w, x, x, w, \\\\dots, w]$$$, $$$[w, \\\\dots, w, y, y, x, w, \\\\dots, w]$$$, etc. To the leftmost positions, we get $$$a_1 = a_2$$$ (essentially based on Hint 3). Also, we get ...... $$$a_{n-1} = a_n$$$? This is if and only if the initial $$$[w, (w - 1)]$$$ is neither at the beginning nor at the end. If the initial $$$[w, (w - 1)]$$$ is at the beginning, we only need $$$a_{n-1} = a_n$$$ to achieve the goal, and symmetrically the same. Less is more. Obviously, we only need to satisfy either $$$a_1 = a_2$$$ or $$$a_{n-1} = a_n$$$, and then use $$$n - 1$$$ more operations to reach the target situation.\\nHow do we get to $$$a_1 = a_2$$$ (symmetrically the same)? Based on Hint 3, we find the smallest $$$x$$$ that satisfies $$$a_x = a_{x+1}$$$, and then follow the example above, again using $$$x - 1$$$ operations to conduct the equality sign to $$$a_1 = a_2$$$.\\nWhy is it optimal?\\nLemma 1\\n: We can never choose an index $$$a_i = w$$$, fix it (i.e. avoid changing $$$a_i$$$ in the following operations), and then use some operations to reach $$$\\\\sum a_i = nw - 1$$$ unless $$$[a_1, \\\\ldots, a_i] = [w, \\\\ldots, w]$$$ or $$$[a_i, \\\\ldots, a_n] = [w, \\\\ldots, w]$$$.\\nProof\\n: If not so, the array is split into two parts: $$$[a_1, \\\\ldots, a_{i-1}]$$$ and $$$[a_{i+1}, \\\\ldots, a_n]$$$. We have: after some operations, the maximum $$$\\\\sum a_i$$$ we can get for each part are respectively $$$(i-1)w - 1, (n-i)w - 1$$$, and add them up and we get $$$nw - 2$$$, which is less than $$$nw - 1$$$, so it\\'s never optimal.\\nLemma 2\\n: Look at the final array $$$a$$$, consisting of $$$n - 1$$$ element $$$w$$$ and $$$1$$$ element $$$(w - 1)$$$. Obtain an array $$$a\\'$$$ by keeping the elements with the value of $$$w$$$. Denote $$$t_i$$$ as the last round in which $$${a\\'}_i$$$ was changed to $$$w$$$ (and then become fixed). Then, there exists some $$$k$$$ such that $$$t_1 < t_2 < \\\\dots < t_k > t_{k+1} > \\\\dots > t_{n-1}$$$.\\nProof\\n: This follows from\\nLemma 1\\n.\\nAccording to\\nLemma 2\\n, we can see the pattern that we used above is optimal.\\n$$$w \\\\geq 3$$$\\nSome initial operations can be conducted\\n$$$a_1 \\\\neq w, a_n \\\\neq w$$$\\nBasically, the idea remains to reach $$$a_1 = a_2$$$ in the same way first (symmetrically the same), and then to extend to all positions. However, at this point, in the second stage, some problems may arise as follows:\\n$$$[\\\\dots \\\\underline{a_k}\\\\ a_{k+1}\\\\ w\\\\ a_{k+3} \\\\dots]$$$\\n$$$[\\\\dots \\\\underline{\\\\color{red}{a_{k+1}}\\\\ a_{k+1}}\\\\ w\\\\ a_{k+3} \\\\dots]$$$\\n$$$[\\\\dots \\\\color{red}s\\\\ \\\\underline{\\\\color{red}w\\\\ w}\\\\ a_{k+3} \\\\dots]$$$\\n$$$[\\\\dots \\\\color{red}{\\\\underline{s\\\\ s}}\\\\ t\\\\ a_{k+3} \\\\dots]$$$\\n$$$[\\\\dots \\\\color{red}w\\\\ \\\\underline{\\\\color{red}t\\\\ t}\\\\ a_{k+3} \\\\dots]$$$\\n$$$[\\\\dots \\\\color{red}{w\\\\ w}\\\\ \\\\underline{\\\\color{red}{a_{k+3}}\\\\ a_{k+3}} \\\\dots]$$$\\nIn which $$$s, t, w$$$ are three distinct integers in the range $$$[1, w]$$$ (This also explains why we need to specially deal with the $$$w = 2$$$ case). Since we cannot fix $$$a_{k+2} = w$$$ at the beginning (refer to the \"Why is it optimal?\" spoiler above), we have to first change $$$a_{k+2}$$$ into something not equal to $$$w$$$, and that cost at least $$$2$$$ extra operations, which is shown here.\\nDo we always need $$$2$$$ extra operations?\\nOne may note that if $$$a_i = a_{i+1} = w$$$, in which the two elements are both in the way of expansion, we can only use $$$1$$$ operation to vanish their existence. Formally, if there is a maximum continuous subsegment of $$$w$$$ in the way of expansion, let its length be $$$L$$$, then we will spend $$$\\\\lceil \\\\frac{L}{2} \\\\rceil + [L = 1]$$$ extra operations.\\nWhat is \\'in the way of expansion\\'?\\nSuppose in the first stage, we pick $$$a_x = a_{x+1}$$$ and keep operating on it until $$$a_1 = a_2$$$. Then after it, $$$\\\\forall 3 \\\\leq k \\\\leq x + 1$$$, $$$a_k$$$ can be an arbitrary number which is different from the initial $$$a_{k-1}$$$, thus we can always force it to be $$$\\\\neq w$$$.\\nIn the above case, only elements $$$[a_{x+2}, \\\\ldots, a_n]$$$ are considered \\'in the way of expansion\\', and symmetrically the same.\\n$$$w \\\\geq 3$$$\\nSome initial operations can be conducted\\nNo additional constraints\\nIt may come to you that if $$$a_1 = w$$$, we can ignore $$$a_1$$$; if $$$a_1 = a_2 = w$$$, we can ignore $$$a_2$$$. Symmetrically the same. And so on... Then we boil the problem down to the case above.\\nIt is correct unless in some rare cases when we ignore all the prefixes and suffixes, there will be no remaining $$$a_i = a_{i+1}$$$; or if we pick any pair $$$a_i = a_{i+1}$$$ as the starting pair in the remaining array, it is not optimal compared to picking an $$$a_k = a_{k+1} = w (a_{k+2} \\\\neq w)$$$ (symmetrically the same). So, we have to special handle the deleted prefix and suffix, once it has a length greater than $$$2$$$.\\nIn summary, the problem can be solved in $$$\\\\mathcal O(n)$$$.', 'Code (C++)\\n#include <bits/stdc++.h>\\n\\n#define MAXN 200005\\nint a[MAXN];\\n\\nvoid solve() {\\n\\tint N, w; scanf(\"%d%d\", &N, &w);\\n\\tfor (int i = 1; i <= N; ++i) scanf(\"%d\", a + i);\\n\\tif (N == 1) return (void)printf(\"%d 0\\\\n\", a[1]);\\n\\tif (*std::min_element(a + 1, a + N + 1) == w)\\n\\t\\treturn (void)printf(\"%lld 0\\\\n\", 1ll * w * N);\\n\\tif (w == 2) {\\n\\t\\tint ans = N * 2, pans = 0;\\n\\t\\tfor (int i = 1, j = 1; i <= N; i = ++j) if (a[i] == 1) {\\n\\t\\t\\t--ans; while (j < N && a[j + 1] == 1) ++j; pans += j - i;\\n\\t\\t}\\n\\t\\treturn (void)printf(\"%d %d\\\\n\", ans, pans);\\n\\t}\\n\\tbool flag = true;\\n\\tfor (int i = 1; i < N; ++i) if (a[i] == a[i + 1]) flag = false;\\n\\tif (flag) return (void)printf(\"%lld 0\\\\n\", std::accumulate(a + 1, a + N + 1, 0ll));\\n\\tprintf(\"%lld \", 1ll * w * N - 1);\\n\\tif (std::accumulate(a + 1, a + N + 1, 0ll) == 1ll * w * N - 1) return (void)puts(\"0\");\\n\\tint ans = 0x3f3f3f3f, l = (a[1] == w ? 2 : 1), r = (a[N] == w ? N - 1 : N);\\n\\tif ((a[1] == w && a[2] == w) || (a[N] == w && a[N - 1] == w)) {\\n\\t\\tint Lw = 0, Rw = N + 1;\\n\\t\\twhile (a[Lw + 1] == w) ++Lw; while (a[Rw - 1] == w) --Rw;\\n\\t\\tint pans = Rw - Lw;\\n\\t\\tfor (int i = Lw + 1, j = i; i < Rw; i = ++j) if (a[i] == w) {\\n\\t\\t\\twhile (j + 1 < Rw && a[j + 1] == w) ++j;\\n\\t\\t\\tpans += (i == j ? 2 : ((j - i) >> 1) + 1);\\n\\t\\t}\\n\\t\\tans = pans, l = Lw + 1, r = Rw - 1;\\n\\t}\\n\\tfor (int d = 0; d < 2; std::reverse(a + l, a + r + 1), ++d) \\n\\t\\tfor (int i = l - 1, pre = 0, len = 0; i + 2 <= r; ) {\\n\\t\\t\\tif (a[i + 1] == a[i + 2]) \\n\\t\\t\\t\\tans = std::min(r - (i + 1) + r - l - 1 + pre - ((len == 1) && i + 2 < r && a[i + 3] != w ? 1 : 0), ans);\\n\\t\\t\\t++i; if (a[i] == w) ++len, pre += (len == 1 ? 2 : len == 2 ? -1 : (len & 1)); else len = 0;\\n\\t}\\n\\tprintf(\"%d\\\\n\", ans);\\n}\\n\\nint main() { int T; scanf(\"%d\", &T); while (T--) solve(); return 0; }', \"Rate the Problem\\nAmazing problem:\\nGood problem:\\nAverage problem:\\nBad problem:\\nDidn't solve:\"]\n"
     ]
    }
   ],
   "source": [
    "from urllib.request import Request, urlopen\n",
    "from bs4 import BeautifulSoup\n",
    "\n",
    "BASE_URL = \"https://codeforces.com/problemset/problem\"\n",
    "\n",
    "def Fetch_problem(id, name):\n",
    "    Problem_object = {}\n",
    "    id = id.strip()\n",
    "    contest_id = id[:4]\n",
    "    alpha = id[4:]\n",
    "    Url = f\"{BASE_URL}/{contest_id}/{alpha}\"\n",
    "    pro_req = Request(\n",
    "        url=Url,\n",
    "        headers={'User-Agent': 'Mozilla/5.0'}\n",
    "    )\n",
    "    \n",
    "    try:\n",
    "        # Fetch the problem page\n",
    "        problem_page = urlopen(pro_req).read()\n",
    "        soup_pro = BeautifulSoup(problem_page, 'html.parser')\n",
    "        problem_page_content = soup_pro.find(\"div\", id=\"body\")\n",
    "\n",
    "        if not problem_page_content:\n",
    "            print(\"Problem page content not found.\")\n",
    "            return {}\n",
    "\n",
    "        # Extract metadata\n",
    "        metadata = problem_page_content.find(\"div\", class_=\"header\")\n",
    "        if metadata:\n",
    "            title = metadata.find(\"div\", class_=\"title\").text.strip()\n",
    "            time_limit = metadata.find(\"div\", class_=\"time-limit\").text.strip()\n",
    "            memory_limit = metadata.find(\"div\", class_=\"memory-limit\").text.strip()\n",
    "        else:\n",
    "            print(\"Metadata not found.\")\n",
    "            title = time_limit = memory_limit = None\n",
    "\n",
    "        # Extract problem statement\n",
    "        problem_statement_div = problem_page_content.find(\"div\", class_=\"problemindexholder\")\n",
    "        Problem_question = problem_statement_div.get_text(\"\\n\", strip=True) if problem_statement_div else None\n",
    "        \n",
    "        # Extract sidebar content\n",
    "        sidebar_content = problem_page_content.find(\"div\", id=\"sidebar\")\n",
    "        Tutorial_link = None\n",
    "        Announcement_link = None\n",
    "        \n",
    "        if sidebar_content:\n",
    "            list_blog_url = sidebar_content.find_all(\"li\")\n",
    "            for li in list_blog_url:\n",
    "                link_tag = li.find(\"a\")\n",
    "                if link_tag:\n",
    "                    link_text = li.text.strip()\n",
    "                    if link_text == \"Tutorial (en)\":\n",
    "                        Tutorial_link = link_tag[\"href\"]\n",
    "                    elif link_text == \"Announcement\":\n",
    "                        Announcement_link = link_tag[\"href\"]\n",
    "        else:\n",
    "            print(\"Sidebar content not found.\")\n",
    "        \n",
    "        # Build the problem object\n",
    "        Problem_object = {\n",
    "            \"Problem_statement\": Problem_question,\n",
    "            \"Tutorial_link\": Tutorial_link,\n",
    "            \"Announcement_link\": Announcement_link,\n",
    "            \"Metadata\": {\n",
    "                \"Title\": title,\n",
    "                \"Time Limit\": time_limit,\n",
    "                \"Memory Limit\": memory_limit\n",
    "            }\n",
    "        }\n",
    "\n",
    "    except Exception as e:\n",
    "        print(f\"Error fetching problem data: {e}\")\n",
    "        return {}\n",
    "\n",
    "    return Problem_object\n",
    "\n",
    "# Test the function\n",
    "problem_data = Fetch_problem(\"2053I2\", \"Affectionate Arrays (Hard Version)\")\n",
    "\n",
    "print(problem_data)\n",
    "\n",
    "\n",
    "def Fetch_editorial(Tutorial_Link, problem_id):\n",
    "    if not Tutorial_Link:  # Check if Tutorial_Link is None or empty\n",
    "        with open(\"./data/logs/process_log.txt\", \"a\", encoding=\"utf-8\") as log_file:\n",
    "            log_file.write(f\"No tutorial link found for ID: {problem_id}. Skipping editorial fetch.\\n\")\n",
    "        return None  # Skip fetching the editorial if no link is provided\n",
    "    LINK_URL = CODEFORCES_URL + Tutorial_Link\n",
    "    editorial_page = urlopen(Request(url=LINK_URL, headers={\"User-Agent\": \"Mozilla/5.0\"})).read()\n",
    "    soup = BeautifulSoup(editorial_page, \"html.parser\")\n",
    "\n",
    "    # Locate the paragraph with the problem ID\n",
    "    p = soup.find(\"p\", string=lambda text: text and problem_id in text)\n",
    "    if not p:\n",
    "        print(\"Problem ID paragraph not found.\")\n",
    "        return None\n",
    "\n",
    "    spoiler_divs = []\n",
    "    sibling = p.find_next_sibling()\n",
    "    found = False\n",
    "    while sibling:\n",
    "        # Check if it's a <p> tag directly, terminate traversal if so\n",
    "        if sibling.name == \"p\" and  found:\n",
    "            sibling = sibling.find_next_sibling()\n",
    "            break\n",
    "\n",
    "        # Check if it's a <div> with a class \"spoiler\"\n",
    "        if sibling.name == \"div\" and \"spoiler\" in sibling.get(\"class\", []):\n",
    "            # Ensure no <p> tag inside this <div>\n",
    "            # if not sibling.find(\"p\"):\n",
    "            found = True\n",
    "            spoiler_divs.append(sibling.get_text(\"\\n\", strip=True))\n",
    "\n",
    "        # Move to the next sibling\n",
    "        sibling = sibling.find_next_sibling()\n",
    "\n",
    "    return spoiler_divs\n",
    "\n",
    "editorial_data = Fetch_editorial(\"/blog/entry/136455\", \"2053H\")\n",
    "print(editorial_data)"
   ]
  },
  {
   "cell_type": "code",
   "execution_count": 8,
   "metadata": {},
   "outputs": [
    {
     "name": "stdout",
     "output_type": "stream",
     "text": [
      "Problem ID paragraph not found.\n",
      "Problem ID paragraph not found.\n",
      "Problem ID paragraph not found.\n",
      "Problem ID paragraph not found.\n",
      "Problem ID paragraph not found.\n",
      "Problem ID paragraph not found.\n",
      "Problem ID paragraph not found.\n",
      "Problem ID paragraph not found.\n",
      "Problem ID paragraph not found.\n"
     ]
    },
    {
     "name": "stderr",
     "output_type": "stream",
     "text": [
      "Some characters could not be decoded, and were replaced with REPLACEMENT CHARACTER.\n"
     ]
    },
    {
     "name": "stdout",
     "output_type": "stream",
     "text": [
      "Problem page content not found.\n"
     ]
    },
    {
     "name": "stderr",
     "output_type": "stream",
     "text": [
      "Some characters could not be decoded, and were replaced with REPLACEMENT CHARACTER.\n"
     ]
    },
    {
     "name": "stdout",
     "output_type": "stream",
     "text": [
      "Problem page content not found.\n"
     ]
    },
    {
     "name": "stderr",
     "output_type": "stream",
     "text": [
      "Some characters could not be decoded, and were replaced with REPLACEMENT CHARACTER.\n"
     ]
    },
    {
     "name": "stdout",
     "output_type": "stream",
     "text": [
      "Problem page content not found.\n"
     ]
    },
    {
     "name": "stderr",
     "output_type": "stream",
     "text": [
      "Some characters could not be decoded, and were replaced with REPLACEMENT CHARACTER.\n"
     ]
    },
    {
     "name": "stdout",
     "output_type": "stream",
     "text": [
      "Problem page content not found.\n"
     ]
    },
    {
     "name": "stderr",
     "output_type": "stream",
     "text": [
      "Some characters could not be decoded, and were replaced with REPLACEMENT CHARACTER.\n"
     ]
    },
    {
     "name": "stdout",
     "output_type": "stream",
     "text": [
      "Problem page content not found.\n"
     ]
    },
    {
     "name": "stderr",
     "output_type": "stream",
     "text": [
      "Some characters could not be decoded, and were replaced with REPLACEMENT CHARACTER.\n"
     ]
    },
    {
     "name": "stdout",
     "output_type": "stream",
     "text": [
      "Problem page content not found.\n"
     ]
    },
    {
     "name": "stderr",
     "output_type": "stream",
     "text": [
      "Some characters could not be decoded, and were replaced with REPLACEMENT CHARACTER.\n"
     ]
    },
    {
     "name": "stdout",
     "output_type": "stream",
     "text": [
      "Problem page content not found.\n"
     ]
    },
    {
     "ename": "HTTPError",
     "evalue": "HTTP Error 404: ",
     "output_type": "error",
     "traceback": [
      "\u001b[1;31m---------------------------------------------------------------------------\u001b[0m",
      "\u001b[1;31mHTTPError\u001b[0m                                 Traceback (most recent call last)",
      "Cell \u001b[1;32mIn[8], line 71\u001b[0m\n\u001b[0;32m     67\u001b[0m                 log_file\u001b[38;5;241m.\u001b[39mwrite(\u001b[38;5;124mf\u001b[39m\u001b[38;5;124m\"\u001b[39m\u001b[38;5;124mProblem data not found for ID: \u001b[39m\u001b[38;5;132;01m{\u001b[39;00mproblem_id\u001b[38;5;132;01m}\u001b[39;00m\u001b[38;5;124m. Skipping to the next question.\u001b[39m\u001b[38;5;130;01m\\n\u001b[39;00m\u001b[38;5;124m\"\u001b[39m)\n\u001b[0;32m     70\u001b[0m \u001b[38;5;66;03m# Call the main function\u001b[39;00m\n\u001b[1;32m---> 71\u001b[0m \u001b[43mmain\u001b[49m\u001b[43m(\u001b[49m\u001b[43m)\u001b[49m\n",
      "Cell \u001b[1;32mIn[8], line 52\u001b[0m, in \u001b[0;36mmain\u001b[1;34m()\u001b[0m\n\u001b[0;32m     49\u001b[0m problem_data \u001b[38;5;241m=\u001b[39m Fetch_problem(problem_id, problem_name)\n\u001b[0;32m     51\u001b[0m \u001b[38;5;28;01mif\u001b[39;00m problem_data:\n\u001b[1;32m---> 52\u001b[0m     editorial_data \u001b[38;5;241m=\u001b[39m \u001b[43mFetch_editorial\u001b[49m\u001b[43m(\u001b[49m\u001b[43mproblem_data\u001b[49m\u001b[38;5;241;43m.\u001b[39;49m\u001b[43mget\u001b[49m\u001b[43m(\u001b[49m\u001b[38;5;124;43m\"\u001b[39;49m\u001b[38;5;124;43mTutorial_link\u001b[39;49m\u001b[38;5;124;43m\"\u001b[39;49m\u001b[43m)\u001b[49m\u001b[43m,\u001b[49m\u001b[43m \u001b[49m\u001b[43mproblem_id\u001b[49m\u001b[43m)\u001b[49m\n\u001b[0;32m     53\u001b[0m     \u001b[38;5;28;01mif\u001b[39;00m editorial_data:\n\u001b[0;32m     54\u001b[0m         \u001b[38;5;28;01mtry\u001b[39;00m:\n",
      "Cell \u001b[1;32mIn[7], line 89\u001b[0m, in \u001b[0;36mFetch_editorial\u001b[1;34m(Tutorial_Link, problem_id)\u001b[0m\n\u001b[0;32m     87\u001b[0m     \u001b[38;5;28;01mreturn\u001b[39;00m \u001b[38;5;28;01mNone\u001b[39;00m  \u001b[38;5;66;03m# Skip fetching the editorial if no link is provided\u001b[39;00m\n\u001b[0;32m     88\u001b[0m LINK_URL \u001b[38;5;241m=\u001b[39m CODEFORCES_URL \u001b[38;5;241m+\u001b[39m Tutorial_Link\n\u001b[1;32m---> 89\u001b[0m editorial_page \u001b[38;5;241m=\u001b[39m \u001b[43murlopen\u001b[49m\u001b[43m(\u001b[49m\u001b[43mRequest\u001b[49m\u001b[43m(\u001b[49m\u001b[43murl\u001b[49m\u001b[38;5;241;43m=\u001b[39;49m\u001b[43mLINK_URL\u001b[49m\u001b[43m,\u001b[49m\u001b[43m \u001b[49m\u001b[43mheaders\u001b[49m\u001b[38;5;241;43m=\u001b[39;49m\u001b[43m{\u001b[49m\u001b[38;5;124;43m\"\u001b[39;49m\u001b[38;5;124;43mUser-Agent\u001b[39;49m\u001b[38;5;124;43m\"\u001b[39;49m\u001b[43m:\u001b[49m\u001b[43m \u001b[49m\u001b[38;5;124;43m\"\u001b[39;49m\u001b[38;5;124;43mMozilla/5.0\u001b[39;49m\u001b[38;5;124;43m\"\u001b[39;49m\u001b[43m}\u001b[49m\u001b[43m)\u001b[49m\u001b[43m)\u001b[49m\u001b[38;5;241m.\u001b[39mread()\n\u001b[0;32m     90\u001b[0m soup \u001b[38;5;241m=\u001b[39m BeautifulSoup(editorial_page, \u001b[38;5;124m\"\u001b[39m\u001b[38;5;124mhtml.parser\u001b[39m\u001b[38;5;124m\"\u001b[39m)\n\u001b[0;32m     92\u001b[0m \u001b[38;5;66;03m# Locate the paragraph with the problem ID\u001b[39;00m\n",
      "File \u001b[1;32mc:\\Users\\chand.CHANDAN\\anaconda3\\envs\\myenv\\Lib\\urllib\\request.py:216\u001b[0m, in \u001b[0;36murlopen\u001b[1;34m(url, data, timeout, cafile, capath, cadefault, context)\u001b[0m\n\u001b[0;32m    214\u001b[0m \u001b[38;5;28;01melse\u001b[39;00m:\n\u001b[0;32m    215\u001b[0m     opener \u001b[38;5;241m=\u001b[39m _opener\n\u001b[1;32m--> 216\u001b[0m \u001b[38;5;28;01mreturn\u001b[39;00m \u001b[43mopener\u001b[49m\u001b[38;5;241;43m.\u001b[39;49m\u001b[43mopen\u001b[49m\u001b[43m(\u001b[49m\u001b[43murl\u001b[49m\u001b[43m,\u001b[49m\u001b[43m \u001b[49m\u001b[43mdata\u001b[49m\u001b[43m,\u001b[49m\u001b[43m \u001b[49m\u001b[43mtimeout\u001b[49m\u001b[43m)\u001b[49m\n",
      "File \u001b[1;32mc:\\Users\\chand.CHANDAN\\anaconda3\\envs\\myenv\\Lib\\urllib\\request.py:525\u001b[0m, in \u001b[0;36mOpenerDirector.open\u001b[1;34m(self, fullurl, data, timeout)\u001b[0m\n\u001b[0;32m    523\u001b[0m \u001b[38;5;28;01mfor\u001b[39;00m processor \u001b[38;5;129;01min\u001b[39;00m \u001b[38;5;28mself\u001b[39m\u001b[38;5;241m.\u001b[39mprocess_response\u001b[38;5;241m.\u001b[39mget(protocol, []):\n\u001b[0;32m    524\u001b[0m     meth \u001b[38;5;241m=\u001b[39m \u001b[38;5;28mgetattr\u001b[39m(processor, meth_name)\n\u001b[1;32m--> 525\u001b[0m     response \u001b[38;5;241m=\u001b[39m \u001b[43mmeth\u001b[49m\u001b[43m(\u001b[49m\u001b[43mreq\u001b[49m\u001b[43m,\u001b[49m\u001b[43m \u001b[49m\u001b[43mresponse\u001b[49m\u001b[43m)\u001b[49m\n\u001b[0;32m    527\u001b[0m \u001b[38;5;28;01mreturn\u001b[39;00m response\n",
      "File \u001b[1;32mc:\\Users\\chand.CHANDAN\\anaconda3\\envs\\myenv\\Lib\\urllib\\request.py:634\u001b[0m, in \u001b[0;36mHTTPErrorProcessor.http_response\u001b[1;34m(self, request, response)\u001b[0m\n\u001b[0;32m    631\u001b[0m \u001b[38;5;66;03m# According to RFC 2616, \"2xx\" code indicates that the client's\u001b[39;00m\n\u001b[0;32m    632\u001b[0m \u001b[38;5;66;03m# request was successfully received, understood, and accepted.\u001b[39;00m\n\u001b[0;32m    633\u001b[0m \u001b[38;5;28;01mif\u001b[39;00m \u001b[38;5;129;01mnot\u001b[39;00m (\u001b[38;5;241m200\u001b[39m \u001b[38;5;241m<\u001b[39m\u001b[38;5;241m=\u001b[39m code \u001b[38;5;241m<\u001b[39m \u001b[38;5;241m300\u001b[39m):\n\u001b[1;32m--> 634\u001b[0m     response \u001b[38;5;241m=\u001b[39m \u001b[38;5;28;43mself\u001b[39;49m\u001b[38;5;241;43m.\u001b[39;49m\u001b[43mparent\u001b[49m\u001b[38;5;241;43m.\u001b[39;49m\u001b[43merror\u001b[49m\u001b[43m(\u001b[49m\n\u001b[0;32m    635\u001b[0m \u001b[43m        \u001b[49m\u001b[38;5;124;43m'\u001b[39;49m\u001b[38;5;124;43mhttp\u001b[39;49m\u001b[38;5;124;43m'\u001b[39;49m\u001b[43m,\u001b[49m\u001b[43m \u001b[49m\u001b[43mrequest\u001b[49m\u001b[43m,\u001b[49m\u001b[43m \u001b[49m\u001b[43mresponse\u001b[49m\u001b[43m,\u001b[49m\u001b[43m \u001b[49m\u001b[43mcode\u001b[49m\u001b[43m,\u001b[49m\u001b[43m \u001b[49m\u001b[43mmsg\u001b[49m\u001b[43m,\u001b[49m\u001b[43m \u001b[49m\u001b[43mhdrs\u001b[49m\u001b[43m)\u001b[49m\n\u001b[0;32m    637\u001b[0m \u001b[38;5;28;01mreturn\u001b[39;00m response\n",
      "File \u001b[1;32mc:\\Users\\chand.CHANDAN\\anaconda3\\envs\\myenv\\Lib\\urllib\\request.py:563\u001b[0m, in \u001b[0;36mOpenerDirector.error\u001b[1;34m(self, proto, *args)\u001b[0m\n\u001b[0;32m    561\u001b[0m \u001b[38;5;28;01mif\u001b[39;00m http_err:\n\u001b[0;32m    562\u001b[0m     args \u001b[38;5;241m=\u001b[39m (\u001b[38;5;28mdict\u001b[39m, \u001b[38;5;124m'\u001b[39m\u001b[38;5;124mdefault\u001b[39m\u001b[38;5;124m'\u001b[39m, \u001b[38;5;124m'\u001b[39m\u001b[38;5;124mhttp_error_default\u001b[39m\u001b[38;5;124m'\u001b[39m) \u001b[38;5;241m+\u001b[39m orig_args\n\u001b[1;32m--> 563\u001b[0m     \u001b[38;5;28;01mreturn\u001b[39;00m \u001b[38;5;28;43mself\u001b[39;49m\u001b[38;5;241;43m.\u001b[39;49m\u001b[43m_call_chain\u001b[49m\u001b[43m(\u001b[49m\u001b[38;5;241;43m*\u001b[39;49m\u001b[43margs\u001b[49m\u001b[43m)\u001b[49m\n",
      "File \u001b[1;32mc:\\Users\\chand.CHANDAN\\anaconda3\\envs\\myenv\\Lib\\urllib\\request.py:496\u001b[0m, in \u001b[0;36mOpenerDirector._call_chain\u001b[1;34m(self, chain, kind, meth_name, *args)\u001b[0m\n\u001b[0;32m    494\u001b[0m \u001b[38;5;28;01mfor\u001b[39;00m handler \u001b[38;5;129;01min\u001b[39;00m handlers:\n\u001b[0;32m    495\u001b[0m     func \u001b[38;5;241m=\u001b[39m \u001b[38;5;28mgetattr\u001b[39m(handler, meth_name)\n\u001b[1;32m--> 496\u001b[0m     result \u001b[38;5;241m=\u001b[39m \u001b[43mfunc\u001b[49m\u001b[43m(\u001b[49m\u001b[38;5;241;43m*\u001b[39;49m\u001b[43margs\u001b[49m\u001b[43m)\u001b[49m\n\u001b[0;32m    497\u001b[0m     \u001b[38;5;28;01mif\u001b[39;00m result \u001b[38;5;129;01mis\u001b[39;00m \u001b[38;5;129;01mnot\u001b[39;00m \u001b[38;5;28;01mNone\u001b[39;00m:\n\u001b[0;32m    498\u001b[0m         \u001b[38;5;28;01mreturn\u001b[39;00m result\n",
      "File \u001b[1;32mc:\\Users\\chand.CHANDAN\\anaconda3\\envs\\myenv\\Lib\\urllib\\request.py:643\u001b[0m, in \u001b[0;36mHTTPDefaultErrorHandler.http_error_default\u001b[1;34m(self, req, fp, code, msg, hdrs)\u001b[0m\n\u001b[0;32m    642\u001b[0m \u001b[38;5;28;01mdef\u001b[39;00m \u001b[38;5;21mhttp_error_default\u001b[39m(\u001b[38;5;28mself\u001b[39m, req, fp, code, msg, hdrs):\n\u001b[1;32m--> 643\u001b[0m     \u001b[38;5;28;01mraise\u001b[39;00m HTTPError(req\u001b[38;5;241m.\u001b[39mfull_url, code, msg, hdrs, fp)\n",
      "\u001b[1;31mHTTPError\u001b[0m: HTTP Error 404: "
     ]
    }
   ],
   "source": [
    "def save_problem_and_metadata(problem_data, editorial_data, problem_id, log_file_path):\n",
    "    # Define directories\n",
    "    problems_dir = \"./data/problems\"\n",
    "    metadata_dir = \"./data/metadata\"\n",
    "    editorial_dir = \"./data/editorials\"\n",
    "    log_dir = \"./data/logs\"\n",
    "\n",
    "    # Create directories if they don't exist\n",
    "    os.makedirs(problems_dir, exist_ok=True)\n",
    "    os.makedirs(metadata_dir, exist_ok=True)\n",
    "    os.makedirs(editorial_dir, exist_ok=True)\n",
    "    os.makedirs(log_dir,exist_ok=True)\n",
    "\n",
    "    try:\n",
    "        # Save problem statement\n",
    "        problem_file_path = os.path.join(problems_dir, f\"{problem_id}.txt\")\n",
    "        with open(problem_file_path, \"w\", encoding=\"utf-8\") as problem_file:\n",
    "            problem_file.write(problem_data.get(\"Problem_statement\", \"Problem statement not available.\"))\n",
    "\n",
    "        # Save metadata\n",
    "        metadata_file_path = os.path.join(metadata_dir, f\"{problem_id}.json\")\n",
    "        with open(metadata_file_path, \"w\", encoding=\"utf-8\") as metadata_file:\n",
    "            json.dump(problem_data.get(\"Metadata\", {}), metadata_file, indent=4)\n",
    "\n",
    "        # Save editorial content\n",
    "        editorial_file_path = os.path.join(editorial_dir, f\"{problem_id}_editorial.txt\")\n",
    "        with open(editorial_file_path, \"w\", encoding=\"utf-8\") as editorial_file:\n",
    "            for idx, content in enumerate(editorial_data, start=1):\n",
    "                editorial_file.write(f\"Section {idx}:\\n{content}\\n\\n\")\n",
    "\n",
    "        # Write success log\n",
    "        with open(log_file_path, \"a\", encoding=\"utf-8\") as log_file:\n",
    "            log_file.write(f\"Problem ,Editorial and metadata saved successfully for ID: {problem_id}\\n\")\n",
    "    except Exception as e:\n",
    "        # Write error log\n",
    "        with open(log_file_path, \"a\", encoding=\"utf-8\") as log_file:\n",
    "            log_file.write(f\"Error saving data for ID: {problem_id}. Error: {str(e)}\\n\")\n",
    "\n",
    "\n",
    "# Example usage\n",
    "def main():\n",
    "    log_dir = \"./data/logs\"\n",
    "    os.makedirs(log_dir, exist_ok=True)\n",
    "    log_file_path = os.path.join(log_dir, \"process_log.txt\")\n",
    "\n",
    "    for problem in Questions_list:\n",
    "        problem_id = problem['#']\n",
    "        problem_name = problem['Name']\n",
    "        problem_data = Fetch_problem(problem_id, problem_name)\n",
    "\n",
    "        if problem_data:\n",
    "            editorial_data = Fetch_editorial(problem_data.get(\"Tutorial_link\"), problem_id)\n",
    "            if editorial_data:\n",
    "                try:\n",
    "                    save_problem_and_metadata(problem_data, editorial_data, problem_id, log_file_path)\n",
    "                except Exception as e:\n",
    "                    # Log and continue on error in saving data\n",
    "                    with open(log_file_path, \"a\", encoding=\"utf-8\") as log_file:\n",
    "                        log_file.write(f\"Unhandled error saving data for ID: {problem_id}. Skipping to the next question.\\nError: {str(e)}\\n\")\n",
    "            else:\n",
    "                # Log missing editorial data\n",
    "                with open(log_file_path, \"a\", encoding=\"utf-8\") as log_file:\n",
    "                    log_file.write(f\"Editorial data not found for ID: {problem_id}. Skipping to the next question.\\n\")\n",
    "        else:\n",
    "            # Log missing problem data\n",
    "            with open(log_file_path, \"a\", encoding=\"utf-8\") as log_file:\n",
    "                log_file.write(f\"Problem data not found for ID: {problem_id}. Skipping to the next question.\\n\")\n",
    "\n",
    "\n",
    "# Call the main function\n",
    "main()\n"
   ]
  }
 ],
 "metadata": {
  "kernelspec": {
   "display_name": "myenv",
   "language": "python",
   "name": "python3"
  },
  "language_info": {
   "codemirror_mode": {
    "name": "ipython",
    "version": 3
   },
   "file_extension": ".py",
   "mimetype": "text/x-python",
   "name": "python",
   "nbconvert_exporter": "python",
   "pygments_lexer": "ipython3",
   "version": "3.11.11"
  }
 },
 "nbformat": 4,
 "nbformat_minor": 2
}
