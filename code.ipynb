{
 "cells": [
  {
   "cell_type": "code",
   "execution_count": 8,
   "metadata": {},
   "outputs": [],
   "source": [
    "from bs4 import BeautifulSoup\n",
    "import requests\n",
    "import undetected_chromedriver as uc\n",
    "from selenium import webdriver\n",
    "from selenium.webdriver.common.by import By\n",
    "from selenium.webdriver import Chrome\n",
    "from selenium.webdriver.chrome.options import Options\n",
    "from selenium.webdriver.chrome.service import Service\n",
    "from selenium.webdriver.common.keys import Keys\n",
    "import os\n",
    "import json\n",
    "import time\n",
    "import random"
   ]
  },
  {
   "cell_type": "code",
   "execution_count": 9,
   "metadata": {},
   "outputs": [],
   "source": [
    "PATH = r\"C:\\Users\\Ayush Raj\\OneDrive\\Desktop\\Chrome_Driver\\chromedriver.exe\"\n",
    "service = Service(PATH)"
   ]
  },
  {
   "cell_type": "code",
   "execution_count": 10,
   "metadata": {},
   "outputs": [],
   "source": [
    "driver = uc.Chrome(service=service)\n",
    "driver.get(\"https://codeforces.com/enter\")"
   ]
  },
  {
   "cell_type": "code",
   "execution_count": 11,
   "metadata": {},
   "outputs": [],
   "source": [
    "driver.get(\"https://codeforces.com/enter\")"
   ]
  },
  {
   "cell_type": "code",
   "execution_count": 12,
   "metadata": {},
   "outputs": [],
   "source": [
    "username = driver.find_element(By.NAME, \"handleOrEmail\")\n",
    "password = driver.find_element(By.NAME, \"password\")\n",
    "username.send_keys(\"vermarinki730@gmail.com\")\n",
    "password.send_keys(\"AyushRaj@123\")\n",
    "login_button = driver.find_element(By.CSS_SELECTOR, 'input[type=\"submit\"]')\n",
    "login_button.click()\n",
    "time.sleep(5)"
   ]
  },
  {
   "cell_type": "code",
   "execution_count": 13,
   "metadata": {},
   "outputs": [
    {
     "name": "stdout",
     "output_type": "stream",
     "text": [
      "Login successful!\n"
     ]
    }
   ],
   "source": [
    "if \"Logout\" in driver.page_source:\n",
    "    print(\"Login successful!\")\n",
    "else:\n",
    "    print(\"Login failed. Check credentials or captcha.\")"
   ]
  },
  {
   "cell_type": "code",
   "execution_count": 15,
   "metadata": {},
   "outputs": [],
   "source": [
    "problem_data = []"
   ]
  },
  {
   "cell_type": "code",
   "execution_count": 16,
   "metadata": {},
   "outputs": [],
   "source": [
    "problem = uc.Chrome(service = service)"
   ]
  },
  {
   "cell_type": "code",
   "execution_count": 17,
   "metadata": {},
   "outputs": [
    {
     "name": "stdout",
     "output_type": "stream",
     "text": [
      "Contest Number 1900 Done\n",
      "Contest Number 1901 Done\n",
      "Contest Number 1902 Done\n",
      "Contest Number 1903 Done\n",
      "Contest Number 1904 Done\n",
      "Contest Number 1905 Done\n",
      "Contest Number 1906 Done\n",
      "Contest Number 1907 Done\n",
      "Contest Number 1908 Done\n",
      "Contest Number 1909 Done\n",
      "Contest Number 1910 Done\n",
      "Contest Number 1911 Done\n",
      "Contest Number 1912 Done\n",
      "Contest Number 1913 Done\n",
      "Contest Number 1914 Done\n",
      "Contest Number 1915 Done\n",
      "Contest Number 1916 Done\n",
      "Contest Number 1917 Done\n",
      "Contest Number 1918 Done\n",
      "Contest Number 1919 Done\n",
      "Contest Number 1920 Done\n",
      "Contest Number 1921 Done\n",
      "Contest Number 1922 Done\n",
      "Contest Number 1923 Done\n",
      "Contest Number 1924 Done\n",
      "Contest Number 1925 Done\n",
      "Contest Number 1926 Done\n",
      "Contest Number 1927 Done\n",
      "Contest Number 1928 Done\n",
      "Contest Number 1929 Done\n",
      "Contest Number 1930 Done\n",
      "Contest Number 1931 Done\n",
      "Contest Number 1932 Done\n",
      "Contest Number 1933 Done\n",
      "Contest Number 1934 Done\n",
      "Contest Number 1935 Done\n",
      "Contest Number 1936 Done\n",
      "Contest Number 1937 Done\n",
      "Contest Number 1938 Done\n",
      "Contest Number 1939 Done\n",
      "Contest Number 1940 Done\n",
      "Contest Number 1941 Done\n",
      "Contest Number 1942 Done\n",
      "Contest Number 1943 Done\n",
      "Contest Number 1944 Done\n",
      "Contest Number 1945 Done\n",
      "Contest Number 1946 Done\n",
      "Contest Number 1947 Done\n",
      "Contest Number 1948 Done\n",
      "Contest Number 1949 Done\n",
      "Contest Number 1950 Done\n",
      "Contest Number 1951 Done\n",
      "Contest Number 1952 Done\n",
      "Contest Number 1953 Done\n",
      "Contest Number 1954 Done\n",
      "Contest Number 1955 Done\n",
      "Contest Number 1956 Done\n",
      "Contest Number 1957 Done\n",
      "Contest Number 1958 Done\n",
      "Contest Number 1959 Done\n",
      "Contest Number 1960 Done\n",
      "Contest Number 1961 Done\n",
      "Contest Number 1962 Done\n",
      "Contest Number 1963 Done\n",
      "Contest Number 1964 Done\n",
      "Contest Number 1965 Done\n",
      "Contest Number 1966 Done\n",
      "Contest Number 1967 Done\n",
      "Contest Number 1968 Done\n",
      "Contest Number 1969 Done\n",
      "Contest Number 1970 Done\n",
      "Contest Number 1971 Done\n",
      "Contest Number 1972 Done\n",
      "Contest Number 1973 Done\n",
      "Contest Number 1974 Done\n",
      "Contest Number 1975 Done\n",
      "Contest Number 1976 Done\n",
      "Contest Number 1977 Done\n",
      "Contest Number 1978 Done\n",
      "Contest Number 1979 Done\n",
      "Contest Number 1980 Done\n",
      "Contest Number 1981 Done\n",
      "Contest Number 1982 Done\n",
      "Contest Number 1983 Done\n",
      "Contest Number 1984 Done\n",
      "Contest Number 1985 Done\n",
      "Contest Number 1986 Done\n",
      "Contest Number 1987 Done\n",
      "Contest Number 1988 Done\n",
      "Contest Number 1989 Done\n",
      "Contest Number 1990 Done\n",
      "Contest Number 1991 Done\n",
      "Contest Number 1992 Done\n",
      "Contest Number 1993 Done\n",
      "Contest Number 1994 Done\n",
      "Contest Number 1995 Done\n",
      "Contest Number 1996 Done\n",
      "Contest Number 1997 Done\n",
      "Contest Number 1998 Done\n",
      "Contest Number 1999 Done\n",
      "Contest Number 2000 Done\n"
     ]
    }
   ],
   "source": [
    "for contestNumber in range(1900, 2001):\n",
    "    try:\n",
    "        driver.get(\"https://codeforces.com/contest/\" + str(contestNumber))\n",
    "        problemLinks = driver.find_elements(By.CLASS_NAME, \"id\")\n",
    "        problemLinks = list(map(lambda x: x.find_element(By.TAG_NAME, 'a').get_attribute('href') , problemLinks))\n",
    "        solutionLinks = driver.find_elements(By.XPATH, '//a[@title=\"Participants solved the problem\"]')\n",
    "        solutionLinks = list(map(lambda x: x.get_attribute(\"href\"), solutionLinks))\n",
    "        index = -1\n",
    "        for link in problemLinks:\n",
    "            index=index+1\n",
    "            try:\n",
    "                problem.get(link)\n",
    "                title = problem.find_element(By.CLASS_NAME, 'title').text\n",
    "                timefull = problem.find_element(By.CLASS_NAME, 'time-limit')\n",
    "                initial = timefull.find_element(By.CLASS_NAME, 'property-title').text\n",
    "                times = timefull.text.removeprefix(initial)\n",
    "                memoryfull = problem.find_element(By.CLASS_NAME, 'memory-limit')\n",
    "                initial = memoryfull.find_element(By.CLASS_NAME, 'property-title').text\n",
    "                memory = memoryfull.text.removeprefix(initial)\n",
    "                whole = problem.find_element(By.CLASS_NAME, 'ttypography').text\n",
    "                initial = problem.find_element(By.CLASS_NAME, 'header').text\n",
    "                description = whole.removeprefix(initial)\n",
    "                description = description[1:]\n",
    "                tags = problem.find_elements(By.CLASS_NAME, 'roundbox.borderTopRound.borderBottomRound')\n",
    "                tags = list(map(lambda x: x.text, tags))\n",
    "                tags.pop(0)\n",
    "                driver.get(solutionLinks[index])\n",
    "                solutionLink = driver.find_element(By.CLASS_NAME, \"view-source\")\n",
    "                solutionLink = solutionLink.get_attribute(\"href\")\n",
    "                driver.get(solutionLink)\n",
    "                solution = driver.find_element(By.ID, \"program-source-text\").text\n",
    "                problem_data.append({\"title\": title,\"description\": description, \"time_limit\": times, \"memory_limit\": memory, \"tags\": tags, \"link\": link, \"solution\": solution})\n",
    "                time.sleep(random.uniform(1, 5))\n",
    "            except:\n",
    "                time.sleep(random.uniform(1, 5))\n",
    "                continue\n",
    "        print(\"Contest Number \" + str(contestNumber) + \" Done\")\n",
    "        time.sleep(random.uniform(1, 3))\n",
    "    except:\n",
    "        print(\"Error in \" + str(contestNumber))\n",
    "        time.sleep(random.uniform(1, 3))\n",
    "        continue"
   ]
  },
  {
   "cell_type": "code",
   "execution_count": 19,
   "metadata": {},
   "outputs": [],
   "source": [
    "with open(\"Problem-Data.json\", \"w\", encoding=\"utf-8\") as file:\n",
    "    json.dump(problem_data, file, ensure_ascii=False, indent=4)"
   ]
  },
  {
   "cell_type": "code",
   "execution_count": 18,
   "metadata": {},
   "outputs": [],
   "source": [
    "problem.quit()\n",
    "driver.quit()"
   ]
  }
 ],
 "metadata": {
  "kernelspec": {
   "display_name": "Python 3",
   "language": "python",
   "name": "python3"
  },
  "language_info": {
   "codemirror_mode": {
    "name": "ipython",
    "version": 3
   },
   "file_extension": ".py",
   "mimetype": "text/x-python",
   "name": "python",
   "nbconvert_exporter": "python",
   "pygments_lexer": "ipython3",
   "version": "3.12.3"
  }
 },
 "nbformat": 4,
 "nbformat_minor": 2
}
